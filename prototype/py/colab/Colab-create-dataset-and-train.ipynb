{
  "nbformat": 4,
  "nbformat_minor": 0,
  "metadata": {
    "kernelspec": {
      "name": "python3",
      "display_name": "Python 3"
    },
    "language_info": {
      "codemirror_mode": {
        "name": "ipython",
        "version": 3
      },
      "file_extension": ".py",
      "mimetype": "text/x-python",
      "name": "python",
      "nbconvert_exporter": "python",
      "pygments_lexer": "ipython3",
      "version": "3.6.7"
    },
    "colab": {
      "name": "Colab-create-dataset-and-train.ipynb",
      "provenance": [],
      "toc_visible": true,
      "include_colab_link": true
    },
    "accelerator": "GPU"
  },
  "cells": [
    {
      "cell_type": "markdown",
      "metadata": {
        "id": "view-in-github",
        "colab_type": "text"
      },
      "source": [
        "<a href=\"https://colab.research.google.com/github/koukyo1994/iOS-note-v2/blob/master/src/py/colab/Colab-create-dataset-and-train.ipynb\" target=\"_parent\"><img src=\"https://colab.research.google.com/assets/colab-badge.svg\" alt=\"Open In Colab\"/></a>"
      ]
    },
    {
      "cell_type": "markdown",
      "metadata": {
        "id": "BpTI0ZUNM0t_",
        "colab_type": "text"
      },
      "source": [
        "## Setup"
      ]
    },
    {
      "cell_type": "code",
      "metadata": {
        "id": "VB3gkaOoM0uB",
        "colab_type": "code",
        "outputId": "d15af86a-509d-4b70-cfb7-df641cdfbc8b",
        "colab": {
          "base_uri": "https://localhost:8080/",
          "height": 187
        }
      },
      "source": [
        "%%sh\n",
        "apt -qq -y update >> /dev/null\n",
        "apt -qq -y install fonts-ipafont wamerican >> /dev/null\n",
        "pip install tensorflow-gpu==2.0.0 imgaug==0.2.6 coremltools==3.1 >> /dev/null"
      ],
      "execution_count": 1,
      "outputs": [
        {
          "output_type": "stream",
          "text": [
            "\n",
            "WARNING: apt does not have a stable CLI interface. Use with caution in scripts.\n",
            "\n",
            "\n",
            "WARNING: apt does not have a stable CLI interface. Use with caution in scripts.\n",
            "\n",
            "ERROR: tensorflow 1.15.0 has requirement tensorboard<1.16.0,>=1.15.0, but you'll have tensorboard 2.0.2 which is incompatible.\n",
            "ERROR: tensorflow 1.15.0 has requirement tensorflow-estimator==1.15.1, but you'll have tensorflow-estimator 2.0.1 which is incompatible.\n",
            "ERROR: tensorboard 2.0.2 has requirement grpcio>=1.24.3, but you'll have grpcio 1.15.0 which is incompatible.\n",
            "ERROR: google-colab 1.0.0 has requirement google-auth~=1.4.0, but you'll have google-auth 1.10.0 which is incompatible.\n"
          ],
          "name": "stderr"
        }
      ]
    },
    {
      "cell_type": "code",
      "metadata": {
        "id": "SpTZf0ZeM0uF",
        "colab_type": "code",
        "outputId": "d4b210b2-6a9f-4873-c2d8-bccc13bbb749",
        "colab": {
          "base_uri": "https://localhost:8080/",
          "height": 136
        }
      },
      "source": [
        "!git clone https://github.com/koukyo1994/iOS-note-v2.git"
      ],
      "execution_count": 2,
      "outputs": [
        {
          "output_type": "stream",
          "text": [
            "Cloning into 'iOS-note-v2'...\n",
            "remote: Enumerating objects: 390, done.\u001b[K\n",
            "remote: Counting objects: 100% (390/390), done.\u001b[K\n",
            "remote: Compressing objects: 100% (295/295), done.\u001b[K\n",
            "remote: Total 390 (delta 173), reused 292 (delta 88), pack-reused 0\u001b[K\n",
            "Receiving objects: 100% (390/390), 11.84 MiB | 5.28 MiB/s, done.\n",
            "Resolving deltas: 100% (173/173), done.\n"
          ],
          "name": "stdout"
        }
      ]
    },
    {
      "cell_type": "markdown",
      "metadata": {
        "id": "cldi5yNjcCKf",
        "colab_type": "text"
      },
      "source": [
        "## Create Dataset"
      ]
    },
    {
      "cell_type": "code",
      "metadata": {
        "id": "klFTCJwfM0uI",
        "colab_type": "code",
        "outputId": "81d2450f-fc1c-4d70-fd5b-b8bf42f533af",
        "colab": {
          "base_uri": "https://localhost:8080/",
          "height": 544
        }
      },
      "source": [
        "%cd /content/iOS-note-v2/src/py\n",
        "!make create-dataset NSAMPLES=20000"
      ],
      "execution_count": 3,
      "outputs": [
        {
          "output_type": "stream",
          "text": [
            "/content/iOS-note-v2/src/py\n",
            "chmod +x setup.sh\n",
            "make font-setup\n",
            "make[1]: Entering directory '/content/iOS-note-v2/src/py'\n",
            "./setup.sh\n",
            "alanis-hand\n",
            "architext\n",
            "ashcan-bb\n",
            "./setup.sh: 7: [: ashcanbb_bold.ttf: unexpected operator\n",
            "attack-of-the-cucumbers\n",
            "./setup.sh: 7: [: attack: unexpected operator\n",
            "attract-more-women\n",
            "blzee\n",
            "calligravity\n",
            "domestic-manners\n",
            "FH-GoodDogPlain-WTT\n",
            "james-almacen\n",
            "james-fajardo\n",
            "./setup.sh: 7: [: James: unexpected operator\n",
            "khand\n",
            "ladylike-bb\n",
            "mulders-handwriting\n",
            "mumsies\n",
            "Otto\n",
            "pecita\n",
            "quikhand\n",
            "Sophia\n",
            "two-turtle-doves\n",
            "make[1]: Leaving directory '/content/iOS-note-v2/src/py'\n",
            "python create_dataset.py --n_samples 20000\n",
            "100% 20000/20000 [07:06<00:00, 46.93it/s]\n"
          ],
          "name": "stdout"
        }
      ]
    },
    {
      "cell_type": "markdown",
      "metadata": {
        "id": "muqkdWAPcFYN",
        "colab_type": "text"
      },
      "source": [
        "## Save Dataset in Google Drive"
      ]
    },
    {
      "cell_type": "code",
      "metadata": {
        "id": "GTQ5ZsJwM0uK",
        "colab_type": "code",
        "outputId": "7f8cbb43-a742-43a6-b349-dc606019d9ad",
        "colab": {
          "base_uri": "https://localhost:8080/",
          "height": 122
        }
      },
      "source": [
        "from google.colab import drive\n",
        "drive.mount(\"/content/gdrive\")"
      ],
      "execution_count": 4,
      "outputs": [
        {
          "output_type": "stream",
          "text": [
            "Go to this URL in a browser: https://accounts.google.com/o/oauth2/auth?client_id=947318989803-6bn6qk8qdgf4n4g3pfee6491hc0brc4i.apps.googleusercontent.com&redirect_uri=urn%3aietf%3awg%3aoauth%3a2.0%3aoob&response_type=code&scope=email%20https%3a%2f%2fwww.googleapis.com%2fauth%2fdocs.test%20https%3a%2f%2fwww.googleapis.com%2fauth%2fdrive%20https%3a%2f%2fwww.googleapis.com%2fauth%2fdrive.photos.readonly%20https%3a%2f%2fwww.googleapis.com%2fauth%2fpeopleapi.readonly\n",
            "\n",
            "Enter your authorization code:\n",
            "··········\n",
            "Mounted at /content/gdrive\n"
          ],
          "name": "stdout"
        }
      ]
    },
    {
      "cell_type": "code",
      "metadata": {
        "id": "5sL6bYdfM0uM",
        "colab_type": "code",
        "colab": {}
      },
      "source": [
        "!cp -r data/images /content/gdrive/My\\ Drive/AppliedML/\n",
        "!cp data/labels.csv /content/gdrive/My\\ Drive/AppliedML/"
      ],
      "execution_count": 0,
      "outputs": []
    },
    {
      "cell_type": "markdown",
      "metadata": {
        "id": "juvw9y15cJbr",
        "colab_type": "text"
      },
      "source": [
        "## Training"
      ]
    },
    {
      "cell_type": "code",
      "metadata": {
        "id": "gKAcedl7UfFE",
        "colab_type": "code",
        "outputId": "84123ad9-62ef-48e3-c448-0c99d66e864c",
        "colab": {
          "base_uri": "https://localhost:8080/",
          "height": 1000
        }
      },
      "source": [
        "!python train.py --config config/resnet.3blocks.json"
      ],
      "execution_count": 5,
      "outputs": [
        {
          "output_type": "stream",
          "text": [
            "Epoch 1\n",
            "Step 100 : Loss : 40.618763\n",
            "Step 200 : Loss : 33.9976234\n",
            "Step 300 : Loss : 31.689642\n",
            "Step 400 : Loss : 30.3199215\n",
            "Step 500 : Loss : 29.3653145\n",
            "Step 591 : Loss :  28.7658043\n",
            "Save weights at epoch: 0\n",
            "Epoch 2\n",
            "Step 600 : Loss : 28.7120247\n",
            "Step 700 : Loss : 28.1345978\n",
            "Step 800 : Loss : 27.6754227\n",
            "Step 900 : Loss : 27.2524\n",
            "Step 1000 : Loss : 26.6490974\n",
            "Step 1100 : Loss : 25.8566704\n",
            "Step 1182 : Loss :  25.1651459\n",
            "Save weights at epoch: 1\n",
            "Epoch 3\n",
            "Step 1200 : Loss : 25.0190659\n",
            "Step 1300 : Loss : 24.1555367\n",
            "Step 1400 : Loss : 23.3307514\n",
            "Step 1500 : Loss : 22.5495625\n",
            "Step 1600 : Loss : 21.8071194\n",
            "Step 1700 : Loss : 21.1254787\n",
            "Step 1773 : Loss :  20.6503639\n",
            "Save weights at epoch: 2\n",
            "Epoch 4\n",
            "Step 1800 : Loss : 20.4806881\n",
            "Step 1900 : Loss : 19.8704777\n",
            "Step 2000 : Loss : 19.3016319\n",
            "Step 2100 : Loss : 18.7688503\n",
            "Step 2200 : Loss : 18.2579975\n",
            "Step 2300 : Loss : 17.7885113\n",
            "Step 2364 : Loss :  17.4967175\n",
            "Save weights at epoch: 3\n",
            "Epoch 5\n",
            "Step 2400 : Loss : 17.3357487\n",
            "Step 2500 : Loss : 16.9049377\n",
            "Step 2600 : Loss : 16.4990234\n",
            "Step 2700 : Loss : 16.1153755\n",
            "Step 2800 : Loss : 15.7408171\n",
            "Step 2900 : Loss : 15.3899813\n",
            "Step 2955 : Loss :  15.2000427\n",
            "Save weights at epoch: 4\n",
            "Epoch 6\n",
            "Step 3000 : Loss : 15.0508\n",
            "Step 3100 : Loss : 14.7207375\n",
            "Step 3200 : Loss : 14.4093723\n",
            "Step 3300 : Loss : 14.109107\n",
            "Step 3400 : Loss : 13.8158188\n",
            "Step 3500 : Loss : 13.5374384\n",
            "Step 3546 : Loss :  13.4112444\n",
            "Save weights at epoch: 5\n",
            "Epoch 7\n",
            "Step 3600 : Loss : 13.2670021\n",
            "Step 3700 : Loss : 13.0028563\n",
            "Step 3800 : Loss : 12.7438717\n",
            "Step 3900 : Loss : 12.4807682\n",
            "Step 4000 : Loss : 12.2237444\n",
            "Step 4100 : Loss : 11.9779139\n",
            "Step 4137 : Loss :  11.8888102\n",
            "Save weights at epoch: 6\n",
            "Epoch 8\n",
            "Step 4200 : Loss : 11.7393847\n",
            "Step 4300 : Loss : 11.5078344\n",
            "Step 4400 : Loss : 11.2860336\n",
            "Step 4500 : Loss : 11.0681896\n",
            "Step 4600 : Loss : 10.8567877\n",
            "Step 4700 : Loss : 10.6547718\n",
            "Step 4728 : Loss :  10.5995731\n",
            "Save weights at epoch: 7\n",
            "Epoch 9\n",
            "Step 4800 : Loss : 10.4608707\n",
            "Step 4900 : Loss : 10.2733574\n",
            "Step 5000 : Loss : 10.0916739\n",
            "Step 5100 : Loss : 9.91420841\n",
            "Step 5200 : Loss : 9.74323\n",
            "Step 5300 : Loss : 9.57896709\n",
            "Step 5319 : Loss :  9.54797745\n",
            "Save weights at epoch: 8\n",
            "Epoch 10\n",
            "Step 5400 : Loss : 9.4178915\n",
            "Step 5500 : Loss : 9.26302242\n",
            "Step 5600 : Loss : 9.11121\n",
            "Step 5700 : Loss : 8.96497822\n",
            "Step 5800 : Loss : 8.82306671\n",
            "Step 5900 : Loss : 8.68435478\n",
            "Step 5910 : Loss :  8.67089367\n",
            "Save weights at epoch: 9\n",
            "Epoch 11\n",
            "Step 6000 : Loss : 8.54985714\n",
            "Step 6100 : Loss : 8.41985321\n",
            "Step 6200 : Loss : 8.29286385\n",
            "Step 6300 : Loss : 8.17030048\n",
            "Step 6400 : Loss : 8.05154705\n",
            "Step 6500 : Loss : 7.93524122\n",
            "Step 6501 : Loss :  7.93478584\n",
            "Save weights at epoch: 10\n",
            "Epoch 12\n",
            "Step 6600 : Loss : 7.82228851\n",
            "Step 6700 : Loss : 7.71186686\n",
            "Step 6800 : Loss : 7.60461664\n",
            "Step 6900 : Loss : 7.50041819\n",
            "Step 7000 : Loss : 7.3991642\n",
            "Step 7092 : Loss :  7.30852938\n",
            "Save weights at epoch: 11\n",
            "Epoch 13\n",
            "Step 7100 : Loss : 7.3006978\n",
            "Step 7200 : Loss : 7.20401621\n",
            "Step 7300 : Loss : 7.11018229\n",
            "Step 7400 : Loss : 7.01916552\n",
            "Step 7500 : Loss : 6.92992401\n",
            "Step 7600 : Loss : 6.84363\n",
            "Step 7683 : Loss :  6.77405834\n",
            "Save weights at epoch: 12\n",
            "Epoch 14\n",
            "Step 7700 : Loss : 6.7600069\n",
            "Step 7800 : Loss : 6.67768621\n",
            "Step 7900 : Loss : 6.59725666\n",
            "Step 8000 : Loss : 6.51955271\n",
            "Step 8100 : Loss : 6.44371176\n",
            "Step 8200 : Loss : 6.36961079\n",
            "Step 8274 : Loss :  6.31627655\n",
            "Save weights at epoch: 13\n",
            "Epoch 15\n",
            "Step 8300 : Loss : 6.2974987\n",
            "Step 8400 : Loss : 6.22612953\n",
            "Step 8500 : Loss : 6.15674305\n",
            "Step 8600 : Loss : 6.08896303\n",
            "Step 8700 : Loss : 6.02227354\n",
            "Step 8800 : Loss : 5.95799589\n",
            "Step 8865 : Loss :  5.91700029\n",
            "Save weights at epoch: 14\n",
            "Epoch 16\n",
            "Step 8900 : Loss : 5.89520359\n",
            "Step 9000 : Loss : 5.83327484\n",
            "Step 9100 : Loss : 5.77271557\n",
            "Step 9200 : Loss : 5.71331501\n",
            "Step 9300 : Loss : 5.65488052\n",
            "Step 9400 : Loss : 5.59829903\n",
            "Step 9456 : Loss :  5.56723\n",
            "Save weights at epoch: 15\n",
            "Epoch 17\n",
            "Step 9500 : Loss : 5.54291344\n",
            "Step 9600 : Loss : 5.48852301\n",
            "Step 9700 : Loss : 5.43500805\n",
            "Step 9800 : Loss : 5.38227177\n",
            "Step 9900 : Loss : 5.33030081\n",
            "Step 10000 : Loss : 5.28008604\n",
            "Step 10047 : Loss :  5.25688028\n",
            "Save weights at epoch: 16\n",
            "Epoch 18\n",
            "Step 10100 : Loss : 5.23090792\n",
            "Step 10200 : Loss : 5.18202305\n",
            "Step 10300 : Loss : 5.13389778\n",
            "Step 10400 : Loss : 5.08693075\n",
            "Step 10500 : Loss : 5.04051161\n",
            "Step 10600 : Loss : 4.9954195\n",
            "Step 10638 : Loss :  4.97859764\n",
            "Save weights at epoch: 17\n",
            "Epoch 19\n",
            "Step 10700 : Loss : 4.95171261\n",
            "Step 10800 : Loss : 4.90866375\n",
            "Step 10900 : Loss : 4.86619043\n",
            "Step 11000 : Loss : 4.82439041\n",
            "Step 11100 : Loss : 4.78339863\n",
            "Step 11200 : Loss : 4.74288368\n",
            "Step 11229 : Loss :  4.73135471\n",
            "Save weights at epoch: 18\n",
            "Epoch 20\n",
            "Step 11300 : Loss : 4.70339727\n",
            "Step 11400 : Loss : 4.6645503\n",
            "Step 11500 : Loss : 4.62653637\n",
            "Step 11600 : Loss : 4.58883\n",
            "Step 11700 : Loss : 4.55131102\n",
            "Step 11800 : Loss : 4.51481676\n",
            "Step 11820 : Loss :  4.50761557\n",
            "Save weights at epoch: 19\n",
            "Epoch 21\n",
            "Step 11900 : Loss : 4.47912931\n",
            "Step 12000 : Loss : 4.44346142\n",
            "Step 12100 : Loss : 4.40893888\n",
            "Step 12200 : Loss : 4.37496281\n",
            "Step 12300 : Loss : 4.34117508\n",
            "Step 12400 : Loss : 4.30817366\n",
            "Step 12411 : Loss :  4.30469608\n",
            "Save weights at epoch: 20\n",
            "Epoch 22\n",
            "Step 12500 : Loss : 4.27573299\n",
            "Step 12600 : Loss : 4.24351788\n",
            "Step 12700 : Loss : 4.21184063\n",
            "Step 12800 : Loss : 4.18051291\n",
            "Step 12900 : Loss : 4.14982\n",
            "Step 13000 : Loss : 4.11984921\n",
            "Step 13002 : Loss :  4.11929369\n",
            "Save weights at epoch: 21\n",
            "Epoch 23\n",
            "Step 13100 : Loss : 4.09027147\n",
            "Step 13200 : Loss : 4.06120157\n",
            "Step 13300 : Loss : 4.0323472\n",
            "Step 13400 : Loss : 4.00387716\n",
            "Step 13500 : Loss : 3.97604561\n",
            "Step 13593 : Loss :  3.9506228\n",
            "Save weights at epoch: 22\n",
            "Epoch 24\n",
            "Step 13600 : Loss : 3.94871664\n",
            "Step 13700 : Loss : 3.92130399\n",
            "Step 13800 : Loss : 3.89420986\n",
            "Step 13900 : Loss : 3.86778021\n",
            "Step 14000 : Loss : 3.84148216\n",
            "Step 14100 : Loss : 3.81564403\n",
            "Step 14184 : Loss :  3.79455543\n",
            "Save weights at epoch: 23\n",
            "Epoch 25\n",
            "Step 14200 : Loss : 3.79064107\n",
            "Step 14300 : Loss : 3.76592541\n",
            "Step 14400 : Loss : 3.74125361\n",
            "Step 14500 : Loss : 3.7169857\n",
            "Step 14600 : Loss : 3.69284201\n",
            "Step 14700 : Loss : 3.66896462\n",
            "Step 14775 : Loss :  3.65149593\n",
            "Save weights at epoch: 24\n",
            "Epoch 26\n",
            "Step 14800 : Loss : 3.64568472\n",
            "Step 14900 : Loss : 3.6223712\n",
            "Step 15000 : Loss : 3.59971\n",
            "Step 15100 : Loss : 3.57711\n",
            "Step 15200 : Loss : 3.55473781\n",
            "Step 15300 : Loss : 3.53271675\n",
            "Step 15366 : Loss :  3.51851106\n",
            "Save weights at epoch: 25\n",
            "Epoch 27\n",
            "Step 15400 : Loss : 3.51105523\n",
            "Step 15500 : Loss : 3.48931551\n",
            "Step 15600 : Loss : 3.46818972\n",
            "Step 15700 : Loss : 3.44758081\n",
            "Step 15800 : Loss : 3.42675233\n",
            "Step 15900 : Loss : 3.40658569\n",
            "Step 15957 : Loss :  3.39516878\n",
            "Save weights at epoch: 26\n",
            "Epoch 28\n",
            "Step 16000 : Loss : 3.38658571\n",
            "Step 16100 : Loss : 3.36666512\n",
            "Step 16200 : Loss : 3.34687877\n",
            "Step 16300 : Loss : 3.32733607\n",
            "Step 16400 : Loss : 3.30823207\n",
            "Step 16500 : Loss : 3.28934288\n",
            "Step 16548 : Loss :  3.28040576\n",
            "Save weights at epoch: 27\n",
            "Epoch 29\n",
            "Step 16600 : Loss : 3.27118468\n",
            "Step 16700 : Loss : 3.25276661\n",
            "Step 16800 : Loss : 3.23477411\n",
            "Step 16900 : Loss : 3.21655917\n",
            "Step 17000 : Loss : 3.19850612\n",
            "Step 17100 : Loss : 3.18057871\n",
            "Step 17139 : Loss :  3.17395711\n",
            "Save weights at epoch: 28\n",
            "Epoch 30\n",
            "Step 17200 : Loss : 3.16443396\n",
            "Step 17300 : Loss : 3.1475184\n",
            "Step 17400 : Loss : 3.1306684\n",
            "Step 17500 : Loss : 3.11358762\n",
            "Step 17600 : Loss : 3.09679818\n",
            "Step 17700 : Loss : 3.07994652\n",
            "Step 17730 : Loss :  3.07494855\n",
            "Save weights at epoch: 29\n",
            "Epoch 31\n",
            "Step 17800 : Loss : 3.06346\n",
            "Step 17900 : Loss : 3.04705191\n",
            "Step 18000 : Loss : 3.03116226\n",
            "Step 18100 : Loss : 3.01531196\n",
            "Step 18200 : Loss : 2.9995842\n",
            "Step 18300 : Loss : 2.9840486\n",
            "Step 18321 : Loss :  2.98079085\n",
            "Save weights at epoch: 30\n",
            "Epoch 32\n",
            "Step 18400 : Loss : 2.96871638\n",
            "Step 18500 : Loss : 2.9534936\n",
            "Step 18600 : Loss : 2.93861747\n",
            "Step 18700 : Loss : 2.92375064\n",
            "Step 18800 : Loss : 2.9090333\n",
            "Step 18900 : Loss : 2.89449525\n",
            "Step 18912 : Loss :  2.89273286\n",
            "Save weights at epoch: 31\n",
            "Epoch 33\n",
            "Step 19000 : Loss : 2.88004804\n",
            "Step 19100 : Loss : 2.86570263\n",
            "Step 19200 : Loss : 2.85161948\n",
            "Step 19300 : Loss : 2.83780527\n",
            "Step 19400 : Loss : 2.82408953\n",
            "Step 19500 : Loss : 2.81043077\n",
            "Step 19503 : Loss :  2.81000781\n",
            "Save weights at epoch: 32\n",
            "Epoch 34\n",
            "Step 19600 : Loss : 2.79679346\n",
            "Step 19700 : Loss : 2.78347301\n",
            "Step 19800 : Loss : 2.7703743\n",
            "Step 19900 : Loss : 2.7572782\n",
            "Step 20000 : Loss : 2.74428415\n",
            "Step 20094 : Loss :  2.73226357\n",
            "Save weights at epoch: 33\n",
            "Epoch 35\n",
            "Step 20100 : Loss : 2.73149037\n",
            "Step 20200 : Loss : 2.71875644\n",
            "Step 20300 : Loss : 2.70613217\n",
            "Step 20400 : Loss : 2.69355869\n",
            "Step 20500 : Loss : 2.68112206\n",
            "Step 20600 : Loss : 2.66873837\n",
            "Step 20685 : Loss :  2.65850091\n",
            "Save weights at epoch: 34\n",
            "Epoch 36\n",
            "Step 20700 : Loss : 2.65669417\n",
            "Step 20800 : Loss : 2.6447072\n",
            "Step 20900 : Loss : 2.63278747\n",
            "Step 21000 : Loss : 2.62102723\n",
            "Step 21100 : Loss : 2.6091888\n",
            "Step 21200 : Loss : 2.59761763\n",
            "Step 21276 : Loss :  2.58894014\n",
            "Save weights at epoch: 35\n",
            "Epoch 37\n",
            "Step 21300 : Loss : 2.58633089\n",
            "Step 21400 : Loss : 2.57502985\n",
            "Step 21500 : Loss : 2.56389618\n",
            "Step 21600 : Loss : 2.552881\n",
            "Step 21700 : Loss : 2.54196048\n",
            "Step 21800 : Loss : 2.5310657\n",
            "Step 21867 : Loss :  2.52368784\n",
            "Save weights at epoch: 36\n",
            "Epoch 38\n",
            "Step 21900 : Loss : 2.52005887\n",
            "Step 22000 : Loss : 2.50919676\n",
            "Step 22100 : Loss : 2.49836349\n",
            "Step 22200 : Loss : 2.48769593\n",
            "Step 22300 : Loss : 2.47729826\n",
            "Step 22400 : Loss : 2.46686053\n",
            "Step 22458 : Loss :  2.46084762\n",
            "Save weights at epoch: 37\n",
            "Epoch 39\n",
            "Step 22500 : Loss : 2.45648432\n",
            "Step 22600 : Loss : 2.44616437\n",
            "Step 22700 : Loss : 2.43589973\n",
            "Step 22800 : Loss : 2.42582369\n",
            "Step 22900 : Loss : 2.41570425\n",
            "Step 23000 : Loss : 2.40589952\n",
            "Step 23049 : Loss :  2.40109277\n",
            "Save weights at epoch: 38\n",
            "Epoch 40\n",
            "Step 23100 : Loss : 2.39620233\n",
            "Step 23200 : Loss : 2.38651443\n",
            "Step 23300 : Loss : 2.37682867\n",
            "Step 23400 : Loss : 2.36717725\n",
            "Step 23500 : Loss : 2.35750365\n",
            "Step 23600 : Loss : 2.34823012\n",
            "Step 23640 : Loss :  2.3445344\n",
            "Save weights at epoch: 39\n",
            "Epoch 41\n",
            "Step 23700 : Loss : 2.3389945\n",
            "Step 23800 : Loss : 2.32984114\n",
            "Step 23900 : Loss : 2.32072639\n",
            "Step 24000 : Loss : 2.31170487\n",
            "Step 24100 : Loss : 2.30275154\n",
            "Step 24200 : Loss : 2.29388261\n",
            "Step 24231 : Loss :  2.29113817\n",
            "Save weights at epoch: 40\n",
            "Epoch 42\n",
            "Step 24300 : Loss : 2.28491235\n",
            "Step 24400 : Loss : 2.27598834\n",
            "Step 24500 : Loss : 2.26728463\n",
            "Step 24600 : Loss : 2.2585032\n",
            "Step 24700 : Loss : 2.24996614\n",
            "Step 24800 : Loss : 2.24143767\n",
            "Step 24822 : Loss :  2.23957014\n",
            "Save weights at epoch: 41\n",
            "Epoch 43\n",
            "Step 24900 : Loss : 2.23292398\n",
            "Step 25000 : Loss : 2.22453213\n",
            "Step 25100 : Loss : 2.21616101\n",
            "Step 25200 : Loss : 2.20783591\n",
            "Step 25300 : Loss : 2.19945478\n",
            "Step 25400 : Loss : 2.19123316\n",
            "Step 25413 : Loss :  2.19020343\n",
            "Save weights at epoch: 42\n",
            "Epoch 44\n",
            "Step 25500 : Loss : 2.18417072\n",
            "Step 25600 : Loss : 2.17652917\n",
            "Step 25700 : Loss : 2.16862917\n",
            "Step 25800 : Loss : 2.16069627\n",
            "Step 25900 : Loss : 2.15284443\n",
            "Step 26000 : Loss : 2.14496374\n",
            "Step 26004 : Loss :  2.14464331\n",
            "Save weights at epoch: 43\n",
            "Epoch 45\n",
            "Step 26100 : Loss : 2.13702416\n",
            "Step 26200 : Loss : 2.12920308\n",
            "Step 26300 : Loss : 2.12141895\n",
            "Step 26400 : Loss : 2.11359382\n",
            "Step 26500 : Loss : 2.10595512\n",
            "Step 26595 : Loss :  2.09876895\n",
            "Save weights at epoch: 44\n",
            "Epoch 46\n",
            "Step 26600 : Loss : 2.09839106\n",
            "Step 26700 : Loss : 2.09085464\n",
            "Step 26800 : Loss : 2.08356833\n",
            "Step 26900 : Loss : 2.07640433\n",
            "Step 27000 : Loss : 2.06924605\n",
            "Step 27100 : Loss : 2.06215549\n",
            "Step 27186 : Loss :  2.05625105\n",
            "Save weights at epoch: 45\n",
            "Epoch 47\n",
            "Step 27200 : Loss : 2.055269\n",
            "Step 27300 : Loss : 2.04825687\n",
            "Step 27400 : Loss : 2.04121423\n",
            "Step 27500 : Loss : 2.03429842\n",
            "Step 27600 : Loss : 2.02731156\n",
            "Step 27700 : Loss : 2.02038169\n",
            "Step 27777 : Loss :  2.01513\n",
            "Save weights at epoch: 46\n",
            "Epoch 48\n",
            "Step 27800 : Loss : 2.01354098\n",
            "Step 27900 : Loss : 2.00672984\n",
            "Step 28000 : Loss : 1.99993193\n",
            "Step 28100 : Loss : 1.99327672\n",
            "Step 28200 : Loss : 1.98653436\n",
            "Step 28300 : Loss : 1.97998595\n",
            "Step 28368 : Loss :  1.97556615\n",
            "Save weights at epoch: 47\n",
            "Epoch 49\n",
            "Step 28400 : Loss : 1.9734745\n",
            "Step 28500 : Loss : 1.96690214\n",
            "Step 28600 : Loss : 1.96043253\n",
            "Step 28700 : Loss : 1.95412052\n",
            "Step 28800 : Loss : 1.94779718\n",
            "Step 28900 : Loss : 1.94148231\n",
            "Step 28959 : Loss :  1.93776619\n",
            "Save weights at epoch: 48\n",
            "Epoch 50\n",
            "Step 29000 : Loss : 1.93516469\n",
            "Step 29100 : Loss : 1.92886531\n",
            "Step 29200 : Loss : 1.92256916\n",
            "Step 29300 : Loss : 1.91636\n",
            "Step 29400 : Loss : 1.9102608\n",
            "Step 29500 : Loss : 1.90425229\n",
            "Step 29550 : Loss :  1.90124643\n",
            "Save weights at epoch: 49\n"
          ],
          "name": "stdout"
        }
      ]
    },
    {
      "cell_type": "code",
      "metadata": {
        "id": "Lqo8N4K8x8j_",
        "colab_type": "code",
        "colab": {}
      },
      "source": [
        "!cp bin/3blocks_model_weights.h5 /content/gdrive/My\\ Drive/AppliedML/3blocks_model_weights.h5"
      ],
      "execution_count": 0,
      "outputs": []
    },
    {
      "cell_type": "code",
      "metadata": {
        "id": "HQ0si25oCwY-",
        "colab_type": "code",
        "outputId": "d97ed66e-c87a-4d22-f02d-3554a091ed19",
        "colab": {
          "base_uri": "https://localhost:8080/",
          "height": 1000
        }
      },
      "source": [
        "!python conversion.py --config config/resnet.3blocks.json"
      ],
      "execution_count": 7,
      "outputs": [
        {
          "output_type": "stream",
          "text": [
            "WARNING:root:TensorFlow version 2.0.0 detected. Last version known to be fully compatible is 1.14.0 .\n",
            "WARNING:root:Keras version 2.2.5 detected. Last version known to be fully compatible of Keras is 2.2.4 .\n",
            "2020-01-13 00:18:20.305086: I tensorflow/stream_executor/platform/default/dso_loader.cc:44] Successfully opened dynamic library libcuda.so.1\n",
            "2020-01-13 00:18:20.347031: I tensorflow/stream_executor/cuda/cuda_gpu_executor.cc:1006] successful NUMA node read from SysFS had negative value (-1), but there must be at least one NUMA node, so returning NUMA node zero\n",
            "2020-01-13 00:18:20.347637: I tensorflow/core/common_runtime/gpu/gpu_device.cc:1618] Found device 0 with properties: \n",
            "name: Tesla T4 major: 7 minor: 5 memoryClockRate(GHz): 1.59\n",
            "pciBusID: 0000:00:04.0\n",
            "2020-01-13 00:18:20.347908: I tensorflow/stream_executor/platform/default/dso_loader.cc:44] Successfully opened dynamic library libcudart.so.10.0\n",
            "2020-01-13 00:18:20.348981: I tensorflow/stream_executor/platform/default/dso_loader.cc:44] Successfully opened dynamic library libcublas.so.10.0\n",
            "2020-01-13 00:18:20.357950: I tensorflow/stream_executor/platform/default/dso_loader.cc:44] Successfully opened dynamic library libcufft.so.10.0\n",
            "2020-01-13 00:18:20.358257: I tensorflow/stream_executor/platform/default/dso_loader.cc:44] Successfully opened dynamic library libcurand.so.10.0\n",
            "2020-01-13 00:18:20.359549: I tensorflow/stream_executor/platform/default/dso_loader.cc:44] Successfully opened dynamic library libcusolver.so.10.0\n",
            "2020-01-13 00:18:20.367116: I tensorflow/stream_executor/platform/default/dso_loader.cc:44] Successfully opened dynamic library libcusparse.so.10.0\n",
            "2020-01-13 00:18:20.373371: I tensorflow/stream_executor/platform/default/dso_loader.cc:44] Successfully opened dynamic library libcudnn.so.7\n",
            "2020-01-13 00:18:20.373512: I tensorflow/stream_executor/cuda/cuda_gpu_executor.cc:1006] successful NUMA node read from SysFS had negative value (-1), but there must be at least one NUMA node, so returning NUMA node zero\n",
            "2020-01-13 00:18:20.374413: I tensorflow/stream_executor/cuda/cuda_gpu_executor.cc:1006] successful NUMA node read from SysFS had negative value (-1), but there must be at least one NUMA node, so returning NUMA node zero\n",
            "2020-01-13 00:18:20.375122: I tensorflow/core/common_runtime/gpu/gpu_device.cc:1746] Adding visible gpu devices: 0\n",
            "2020-01-13 00:18:20.375425: I tensorflow/core/platform/cpu_feature_guard.cc:142] Your CPU supports instructions that this TensorFlow binary was not compiled to use: AVX2 FMA\n",
            "2020-01-13 00:18:20.379828: I tensorflow/core/platform/profile_utils/cpu_utils.cc:94] CPU Frequency: 2200000000 Hz\n",
            "2020-01-13 00:18:20.379993: I tensorflow/compiler/xla/service/service.cc:168] XLA service 0x1c2d480 executing computations on platform Host. Devices:\n",
            "2020-01-13 00:18:20.380017: I tensorflow/compiler/xla/service/service.cc:175]   StreamExecutor device (0): Host, Default Version\n",
            "2020-01-13 00:18:20.485140: I tensorflow/stream_executor/cuda/cuda_gpu_executor.cc:1006] successful NUMA node read from SysFS had negative value (-1), but there must be at least one NUMA node, so returning NUMA node zero\n",
            "2020-01-13 00:18:20.485769: I tensorflow/compiler/xla/service/service.cc:168] XLA service 0x1c2d640 executing computations on platform CUDA. Devices:\n",
            "2020-01-13 00:18:20.485798: I tensorflow/compiler/xla/service/service.cc:175]   StreamExecutor device (0): Tesla T4, Compute Capability 7.5\n",
            "2020-01-13 00:18:20.485950: I tensorflow/stream_executor/cuda/cuda_gpu_executor.cc:1006] successful NUMA node read from SysFS had negative value (-1), but there must be at least one NUMA node, so returning NUMA node zero\n",
            "2020-01-13 00:18:20.486433: I tensorflow/core/common_runtime/gpu/gpu_device.cc:1618] Found device 0 with properties: \n",
            "name: Tesla T4 major: 7 minor: 5 memoryClockRate(GHz): 1.59\n",
            "pciBusID: 0000:00:04.0\n",
            "2020-01-13 00:18:20.486512: I tensorflow/stream_executor/platform/default/dso_loader.cc:44] Successfully opened dynamic library libcudart.so.10.0\n",
            "2020-01-13 00:18:20.486539: I tensorflow/stream_executor/platform/default/dso_loader.cc:44] Successfully opened dynamic library libcublas.so.10.0\n",
            "2020-01-13 00:18:20.486561: I tensorflow/stream_executor/platform/default/dso_loader.cc:44] Successfully opened dynamic library libcufft.so.10.0\n",
            "2020-01-13 00:18:20.486582: I tensorflow/stream_executor/platform/default/dso_loader.cc:44] Successfully opened dynamic library libcurand.so.10.0\n",
            "2020-01-13 00:18:20.486609: I tensorflow/stream_executor/platform/default/dso_loader.cc:44] Successfully opened dynamic library libcusolver.so.10.0\n",
            "2020-01-13 00:18:20.486629: I tensorflow/stream_executor/platform/default/dso_loader.cc:44] Successfully opened dynamic library libcusparse.so.10.0\n",
            "2020-01-13 00:18:20.486660: I tensorflow/stream_executor/platform/default/dso_loader.cc:44] Successfully opened dynamic library libcudnn.so.7\n",
            "2020-01-13 00:18:20.486727: I tensorflow/stream_executor/cuda/cuda_gpu_executor.cc:1006] successful NUMA node read from SysFS had negative value (-1), but there must be at least one NUMA node, so returning NUMA node zero\n",
            "2020-01-13 00:18:20.487256: I tensorflow/stream_executor/cuda/cuda_gpu_executor.cc:1006] successful NUMA node read from SysFS had negative value (-1), but there must be at least one NUMA node, so returning NUMA node zero\n",
            "2020-01-13 00:18:20.487742: I tensorflow/core/common_runtime/gpu/gpu_device.cc:1746] Adding visible gpu devices: 0\n",
            "2020-01-13 00:18:20.488471: I tensorflow/stream_executor/platform/default/dso_loader.cc:44] Successfully opened dynamic library libcudart.so.10.0\n",
            "2020-01-13 00:18:20.489632: I tensorflow/core/common_runtime/gpu/gpu_device.cc:1159] Device interconnect StreamExecutor with strength 1 edge matrix:\n",
            "2020-01-13 00:18:20.489660: I tensorflow/core/common_runtime/gpu/gpu_device.cc:1165]      0 \n",
            "2020-01-13 00:18:20.489670: I tensorflow/core/common_runtime/gpu/gpu_device.cc:1178] 0:   N \n",
            "2020-01-13 00:18:20.489769: I tensorflow/stream_executor/cuda/cuda_gpu_executor.cc:1006] successful NUMA node read from SysFS had negative value (-1), but there must be at least one NUMA node, so returning NUMA node zero\n",
            "2020-01-13 00:18:20.490287: I tensorflow/stream_executor/cuda/cuda_gpu_executor.cc:1006] successful NUMA node read from SysFS had negative value (-1), but there must be at least one NUMA node, so returning NUMA node zero\n",
            "2020-01-13 00:18:20.490792: W tensorflow/core/common_runtime/gpu/gpu_bfc_allocator.cc:39] Overriding allow_growth setting because the TF_FORCE_GPU_ALLOW_GROWTH environment variable is set. Original config value was 0.\n",
            "2020-01-13 00:18:20.490840: I tensorflow/core/common_runtime/gpu/gpu_device.cc:1304] Created TensorFlow device (/job:localhost/replica:0/task:0/device:GPU:0 with 14221 MB memory) -> physical GPU (device: 0, name: Tesla T4, pci bus id: 0000:00:04.0, compute capability: 7.5)\n",
            "WARNING:tensorflow:No training configuration found in save file: the model was *not* compiled. Compile it manually.\n",
            "WARNING:tensorflow:No training configuration found in save file: the model was *not* compiled. Compile it manually.\n",
            "2020-01-13 00:18:23.682555: I tensorflow/stream_executor/cuda/cuda_gpu_executor.cc:1006] successful NUMA node read from SysFS had negative value (-1), but there must be at least one NUMA node, so returning NUMA node zero\n",
            "2020-01-13 00:18:23.683067: I tensorflow/core/grappler/devices.cc:55] Number of eligible GPUs (core count >= 8, compute capability >= 0.0): 1\n",
            "2020-01-13 00:18:23.683172: I tensorflow/core/grappler/clusters/single_machine.cc:356] Starting new session\n",
            "2020-01-13 00:18:23.683789: I tensorflow/stream_executor/cuda/cuda_gpu_executor.cc:1006] successful NUMA node read from SysFS had negative value (-1), but there must be at least one NUMA node, so returning NUMA node zero\n",
            "2020-01-13 00:18:23.684290: I tensorflow/core/common_runtime/gpu/gpu_device.cc:1618] Found device 0 with properties: \n",
            "name: Tesla T4 major: 7 minor: 5 memoryClockRate(GHz): 1.59\n",
            "pciBusID: 0000:00:04.0\n",
            "2020-01-13 00:18:23.684374: I tensorflow/stream_executor/platform/default/dso_loader.cc:44] Successfully opened dynamic library libcudart.so.10.0\n",
            "2020-01-13 00:18:23.684397: I tensorflow/stream_executor/platform/default/dso_loader.cc:44] Successfully opened dynamic library libcublas.so.10.0\n",
            "2020-01-13 00:18:23.684418: I tensorflow/stream_executor/platform/default/dso_loader.cc:44] Successfully opened dynamic library libcufft.so.10.0\n",
            "2020-01-13 00:18:23.684439: I tensorflow/stream_executor/platform/default/dso_loader.cc:44] Successfully opened dynamic library libcurand.so.10.0\n",
            "2020-01-13 00:18:23.684483: I tensorflow/stream_executor/platform/default/dso_loader.cc:44] Successfully opened dynamic library libcusolver.so.10.0\n",
            "2020-01-13 00:18:23.684508: I tensorflow/stream_executor/platform/default/dso_loader.cc:44] Successfully opened dynamic library libcusparse.so.10.0\n",
            "2020-01-13 00:18:23.684530: I tensorflow/stream_executor/platform/default/dso_loader.cc:44] Successfully opened dynamic library libcudnn.so.7\n",
            "2020-01-13 00:18:23.684596: I tensorflow/stream_executor/cuda/cuda_gpu_executor.cc:1006] successful NUMA node read from SysFS had negative value (-1), but there must be at least one NUMA node, so returning NUMA node zero\n",
            "2020-01-13 00:18:23.685101: I tensorflow/stream_executor/cuda/cuda_gpu_executor.cc:1006] successful NUMA node read from SysFS had negative value (-1), but there must be at least one NUMA node, so returning NUMA node zero\n",
            "2020-01-13 00:18:23.685592: I tensorflow/core/common_runtime/gpu/gpu_device.cc:1746] Adding visible gpu devices: 0\n",
            "2020-01-13 00:18:23.685632: I tensorflow/core/common_runtime/gpu/gpu_device.cc:1159] Device interconnect StreamExecutor with strength 1 edge matrix:\n",
            "2020-01-13 00:18:23.685646: I tensorflow/core/common_runtime/gpu/gpu_device.cc:1165]      0 \n",
            "2020-01-13 00:18:23.685659: I tensorflow/core/common_runtime/gpu/gpu_device.cc:1178] 0:   N \n",
            "2020-01-13 00:18:23.685744: I tensorflow/stream_executor/cuda/cuda_gpu_executor.cc:1006] successful NUMA node read from SysFS had negative value (-1), but there must be at least one NUMA node, so returning NUMA node zero\n",
            "2020-01-13 00:18:23.686255: I tensorflow/stream_executor/cuda/cuda_gpu_executor.cc:1006] successful NUMA node read from SysFS had negative value (-1), but there must be at least one NUMA node, so returning NUMA node zero\n",
            "2020-01-13 00:18:23.686775: I tensorflow/core/common_runtime/gpu/gpu_device.cc:1304] Created TensorFlow device (/job:localhost/replica:0/task:0/device:GPU:0 with 14221 MB memory) -> physical GPU (device: 0, name: Tesla T4, pci bus id: 0000:00:04.0, compute capability: 7.5)\n",
            "2020-01-13 00:18:23.690750: I tensorflow/core/grappler/optimizers/meta_optimizer.cc:716] Optimization results for grappler item: graph_to_optimize\n",
            "2020-01-13 00:18:23.690798: I tensorflow/core/grappler/optimizers/meta_optimizer.cc:718]   function_optimizer: function_optimizer did nothing. time = 0.004ms.\n",
            "2020-01-13 00:18:23.690808: I tensorflow/core/grappler/optimizers/meta_optimizer.cc:718]   function_optimizer: function_optimizer did nothing. time = 0.001ms.\n",
            "0 assert nodes deleted\n",
            "2020-01-13 00:18:25.447429: I tensorflow/stream_executor/cuda/cuda_gpu_executor.cc:1006] successful NUMA node read from SysFS had negative value (-1), but there must be at least one NUMA node, so returning NUMA node zero\n",
            "2020-01-13 00:18:25.447995: I tensorflow/core/common_runtime/gpu/gpu_device.cc:1618] Found device 0 with properties: \n",
            "name: Tesla T4 major: 7 minor: 5 memoryClockRate(GHz): 1.59\n",
            "pciBusID: 0000:00:04.0\n",
            "2020-01-13 00:18:25.448081: I tensorflow/stream_executor/platform/default/dso_loader.cc:44] Successfully opened dynamic library libcudart.so.10.0\n",
            "2020-01-13 00:18:25.448107: I tensorflow/stream_executor/platform/default/dso_loader.cc:44] Successfully opened dynamic library libcublas.so.10.0\n",
            "2020-01-13 00:18:25.448129: I tensorflow/stream_executor/platform/default/dso_loader.cc:44] Successfully opened dynamic library libcufft.so.10.0\n",
            "2020-01-13 00:18:25.448151: I tensorflow/stream_executor/platform/default/dso_loader.cc:44] Successfully opened dynamic library libcurand.so.10.0\n",
            "2020-01-13 00:18:25.448173: I tensorflow/stream_executor/platform/default/dso_loader.cc:44] Successfully opened dynamic library libcusolver.so.10.0\n",
            "2020-01-13 00:18:25.448193: I tensorflow/stream_executor/platform/default/dso_loader.cc:44] Successfully opened dynamic library libcusparse.so.10.0\n",
            "2020-01-13 00:18:25.448214: I tensorflow/stream_executor/platform/default/dso_loader.cc:44] Successfully opened dynamic library libcudnn.so.7\n",
            "2020-01-13 00:18:25.448293: I tensorflow/stream_executor/cuda/cuda_gpu_executor.cc:1006] successful NUMA node read from SysFS had negative value (-1), but there must be at least one NUMA node, so returning NUMA node zero\n",
            "2020-01-13 00:18:25.448861: I tensorflow/stream_executor/cuda/cuda_gpu_executor.cc:1006] successful NUMA node read from SysFS had negative value (-1), but there must be at least one NUMA node, so returning NUMA node zero\n",
            "2020-01-13 00:18:25.449328: I tensorflow/core/common_runtime/gpu/gpu_device.cc:1746] Adding visible gpu devices: 0\n",
            "2020-01-13 00:18:25.449367: I tensorflow/core/common_runtime/gpu/gpu_device.cc:1159] Device interconnect StreamExecutor with strength 1 edge matrix:\n",
            "2020-01-13 00:18:25.449380: I tensorflow/core/common_runtime/gpu/gpu_device.cc:1165]      0 \n",
            "2020-01-13 00:18:25.449389: I tensorflow/core/common_runtime/gpu/gpu_device.cc:1178] 0:   N \n",
            "2020-01-13 00:18:25.449486: I tensorflow/stream_executor/cuda/cuda_gpu_executor.cc:1006] successful NUMA node read from SysFS had negative value (-1), but there must be at least one NUMA node, so returning NUMA node zero\n",
            "2020-01-13 00:18:25.449990: I tensorflow/stream_executor/cuda/cuda_gpu_executor.cc:1006] successful NUMA node read from SysFS had negative value (-1), but there must be at least one NUMA node, so returning NUMA node zero\n",
            "2020-01-13 00:18:25.450473: I tensorflow/core/common_runtime/gpu/gpu_device.cc:1304] Created TensorFlow device (/job:localhost/replica:0/task:0/device:GPU:0 with 14221 MB memory) -> physical GPU (device: 0, name: Tesla T4, pci bus id: 0000:00:04.0, compute capability: 7.5)\n",
            "['model/batch_normalization_4/ReadVariableOp:0', 'model/batch_normalization_13/FusedBatchNormV3/ReadVariableOp_1/resource:0', 'model/res4a_branch2b/BiasAdd/ReadVariableOp:0', 'model/conv2d/BiasAdd/ReadVariableOp:0', 'model/res2a_branch2b/Conv2D/ReadVariableOp:0', 'model/batch_normalization_19/FusedBatchNormV3/ReadVariableOp_1:0', 'model/res1b_branch2b/BiasAdd/ReadVariableOp:0', 'model/res2a_branch2a/Conv2D/ReadVariableOp:0', 'model/res3a_branch2a/BiasAdd/ReadVariableOp/resource:0', 'model/batch_normalization_10/ReadVariableOp/resource:0', 'model/res4b_branch2a/Conv2D/ReadVariableOp/resource:0', 'model/batch_normalization_16/ReadVariableOp:0', 'model/batch_normalization_10/ReadVariableOp_1:0', 'model/res4b_branch2b/Conv2D/ReadVariableOp/resource:0', 'model/batch_normalization_12/FusedBatchNormV3/ReadVariableOp_1:0', 'model/res3b_branch2b/Conv2D/ReadVariableOp/resource:0', 'model/batch_normalization_2/FusedBatchNormV3/ReadVariableOp/resource:0', 'model/batch_normalization_12/ReadVariableOp_1/resource:0', 'model/res1b_branch2b/BiasAdd/ReadVariableOp/resource:0', 'model/batch_normalization_15/ReadVariableOp/resource:0', 'model/batch_normalization_2/ReadVariableOp/resource:0', 'model/batch_normalization_2/FusedBatchNormV3/ReadVariableOp:0', 'model/batch_normalization_17/FusedBatchNormV3/ReadVariableOp_1:0', 'model/batch_normalization/ReadVariableOp_1/resource:0', 'model/res4a_branch2a/Conv2D/ReadVariableOp:0', 'model/batch_normalization_5/ReadVariableOp_1:0', 'model/conv2d/BiasAdd/ReadVariableOp/resource:0', 'model/res2a_branch2a/Conv2D/ReadVariableOp/resource:0', 'model/res4b_branch2b/Conv2D/ReadVariableOp:0', 'model/res1b_branch2a/Conv2D/ReadVariableOp/resource:0', 'model/batch_normalization_19/FusedBatchNormV3/ReadVariableOp_1/resource:0', 'model/time_distributed/softmax/BiasAdd/ReadVariableOp:0', 'model/batch_normalization_8/FusedBatchNormV3/ReadVariableOp/resource:0', 'model/res4a_branch2b/Conv2D/ReadVariableOp/resource:0', 'model/batch_normalization_19/ReadVariableOp_1:0', 'model/batch_normalization_17/FusedBatchNormV3/ReadVariableOp_1/resource:0', 'model/batch_normalization_4/FusedBatchNormV3/ReadVariableOp_1:0', 'model/batch_normalization_1/ReadVariableOp/resource:0', 'model/res4b_branch2a/BiasAdd/ReadVariableOp/resource:0', 'model/conv2d_4/BiasAdd/ReadVariableOp:0', 'model/batch_normalization/FusedBatchNormV3/ReadVariableOp_1/resource:0', 'model/res2a_branch2b/Conv2D/ReadVariableOp/resource:0', 'model/conv2d_2/BiasAdd/ReadVariableOp:0', 'model/batch_normalization_4/FusedBatchNormV3/ReadVariableOp_1/resource:0', 'model/batch_normalization_6/ReadVariableOp:0', 'model/batch_normalization_10/FusedBatchNormV3/ReadVariableOp:0', 'model/batch_normalization_3/FusedBatchNormV3/ReadVariableOp:0', 'model/batch_normalization_3/ReadVariableOp/resource:0', 'model/batch_normalization_4/ReadVariableOp_1:0', 'model/res2a_branch2b/BiasAdd/ReadVariableOp:0', 'model/batch_normalization_11/FusedBatchNormV3/ReadVariableOp/resource:0', 'model/res3b_branch2a/BiasAdd/ReadVariableOp:0', 'model/batch_normalization_19/ReadVariableOp_1/resource:0', 'model/conv2d_3/Conv2D/ReadVariableOp:0', 'model/batch_normalization_13/ReadVariableOp:0', 'model/res1b_branch2a/BiasAdd/ReadVariableOp/resource:0', 'model/batch_normalization_19/FusedBatchNormV3/ReadVariableOp/resource:0', 'model/res2b_branch2a/BiasAdd/ReadVariableOp/resource:0', 'model/batch_normalization_6/FusedBatchNormV3/ReadVariableOp_1:0', 'model/batch_normalization_3/ReadVariableOp_1:0', 'model/res2b_branch2b/BiasAdd/ReadVariableOp/resource:0', 'model/conv2d_4/Conv2D/ReadVariableOp:0', 'model/batch_normalization_1/FusedBatchNormV3/ReadVariableOp_1/resource:0', 'model/res2a_branch2b/BiasAdd/ReadVariableOp/resource:0', 'model/batch_normalization_16/ReadVariableOp_1:0', 'model/conv2d_1/Conv2D/ReadVariableOp/resource:0', 'model/batch_normalization_18/FusedBatchNormV3/ReadVariableOp_1/resource:0', 'model/batch_normalization_3/FusedBatchNormV3/ReadVariableOp_1/resource:0', 'model/batch_normalization_7/FusedBatchNormV3/ReadVariableOp_1:0', 'model/conv2d/Conv2D/ReadVariableOp/resource:0', 'model/batch_normalization_14/ReadVariableOp/resource:0', 'model/batch_normalization_11/FusedBatchNormV3/ReadVariableOp_1/resource:0', 'model/batch_normalization_18/ReadVariableOp_1:0', 'model/batch_normalization_2/FusedBatchNormV3/ReadVariableOp_1/resource:0', 'model/batch_normalization/ReadVariableOp/resource:0', 'model/batch_normalization_4/ReadVariableOp_1/resource:0', 'model/conv2d_2/Conv2D/ReadVariableOp/resource:0', 'model/batch_normalization_16/ReadVariableOp/resource:0', 'model/batch_normalization_16/FusedBatchNormV3/ReadVariableOp/resource:0', 'model/batch_normalization_4/FusedBatchNormV3/ReadVariableOp/resource:0', 'model/time_distributed/softmax/MatMul/ReadVariableOp:0', 'model/batch_normalization_3/FusedBatchNormV3/ReadVariableOp_1:0', 'model/batch_normalization_11/FusedBatchNormV3/ReadVariableOp:0', 'model/res1a_branch2b/BiasAdd/ReadVariableOp/resource:0', 'model/batch_normalization_17/ReadVariableOp:0', 'model/batch_normalization_14/ReadVariableOp_1:0', 'model/batch_normalization_13/FusedBatchNormV3/ReadVariableOp_1:0', 'model/batch_normalization_15/FusedBatchNormV3/ReadVariableOp_1:0', 'model/batch_normalization_1/ReadVariableOp:0', 'model/batch_normalization_12/FusedBatchNormV3/ReadVariableOp:0', 'model/res1a_branch2a/BiasAdd/ReadVariableOp/resource:0', 'model/batch_normalization_5/ReadVariableOp_1/resource:0', 'model/batch_normalization_17/FusedBatchNormV3/ReadVariableOp/resource:0', 'model/res3b_branch2b/BiasAdd/ReadVariableOp:0', 'model/res3b_branch2a/Conv2D/ReadVariableOp:0', 'model/batch_normalization_19/ReadVariableOp:0', 'model/batch_normalization_17/FusedBatchNormV3/ReadVariableOp:0', 'model/batch_normalization_9/FusedBatchNormV3/ReadVariableOp:0', 'model/res4a_branch2a/BiasAdd/ReadVariableOp/resource:0', 'model/conv2d_4/BiasAdd/ReadVariableOp/resource:0', 'model/batch_normalization_19/FusedBatchNormV3/ReadVariableOp:0', 'model/batch_normalization_17/ReadVariableOp/resource:0', 'model/batch_normalization_4/ReadVariableOp/resource:0', 'model/conv2d_2/BiasAdd/ReadVariableOp/resource:0', 'model/batch_normalization_2/FusedBatchNormV3/ReadVariableOp_1:0', 'model/batch_normalization_18/FusedBatchNormV3/ReadVariableOp:0', 'model/batch_normalization_7/ReadVariableOp_1/resource:0', 'model/batch_normalization_6/FusedBatchNormV3/ReadVariableOp:0', 'model/batch_normalization_18/FusedBatchNormV3/ReadVariableOp_1:0', 'model/batch_normalization_6/ReadVariableOp/resource:0', 'model/batch_normalization_14/ReadVariableOp:0', 'model/res3b_branch2b/Conv2D/ReadVariableOp:0', 'model/res3a_branch2b/BiasAdd/ReadVariableOp/resource:0', 'model/batch_normalization_12/ReadVariableOp_1:0', 'model/batch_normalization_17/ReadVariableOp_1:0', 'model/batch_normalization_12/ReadVariableOp/resource:0', 'model/conv2d_3/Conv2D/ReadVariableOp/resource:0', 'model/res2b_branch2b/Conv2D/ReadVariableOp:0', 'model/batch_normalization_8/ReadVariableOp_1:0', 'model/res3a_branch2a/Conv2D/ReadVariableOp:0', 'model/res3b_branch2a/BiasAdd/ReadVariableOp/resource:0', 'model/batch_normalization_6/ReadVariableOp_1/resource:0', 'model/batch_normalization_8/FusedBatchNormV3/ReadVariableOp_1/resource:0', 'model/batch_normalization_6/ReadVariableOp_1:0', 'model/batch_normalization_17/ReadVariableOp_1/resource:0', 'model/res3a_branch2b/Conv2D/ReadVariableOp:0', 'model/res2b_branch2a/Conv2D/ReadVariableOp:0', 'model/batch_normalization_18/FusedBatchNormV3/ReadVariableOp/resource:0', 'model/batch_normalization_1/FusedBatchNormV3/ReadVariableOp:0', 'model/batch_normalization_14/ReadVariableOp_1/resource:0', 'model/res2b_branch2b/BiasAdd/ReadVariableOp:0', 'model/batch_normalization/FusedBatchNormV3/ReadVariableOp_1:0', 'model/batch_normalization_14/FusedBatchNormV3/ReadVariableOp_1:0', 'model/res2b_branch2b/Conv2D/ReadVariableOp/resource:0', 'model/batch_normalization_5/FusedBatchNormV3/ReadVariableOp_1:0', 'model/batch_normalization_10/ReadVariableOp_1/resource:0', 'model/batch_normalization_13/ReadVariableOp_1/resource:0', 'model/conv2d_1/BiasAdd/ReadVariableOp:0', 'model/batch_normalization_1/FusedBatchNormV3/ReadVariableOp_1:0', 'model/batch_normalization_7/FusedBatchNormV3/ReadVariableOp:0', 'model/batch_normalization_2/ReadVariableOp_1/resource:0', 'model/batch_normalization_1/ReadVariableOp_1:0', 'model/res4b_branch2a/BiasAdd/ReadVariableOp:0', 'model/batch_normalization_15/ReadVariableOp:0', 'model/batch_normalization_9/ReadVariableOp:0', 'model/batch_normalization_2/ReadVariableOp:0', 'model/res1b_branch2b/Conv2D/ReadVariableOp/resource:0', 'model/batch_normalization_7/FusedBatchNormV3/ReadVariableOp/resource:0', 'model/conv2d_3/BiasAdd/ReadVariableOp:0', 'model/batch_normalization_13/FusedBatchNormV3/ReadVariableOp:0', 'model/batch_normalization_15/FusedBatchNormV3/ReadVariableOp/resource:0', 'model/res2a_branch2a/BiasAdd/ReadVariableOp:0', 'model/batch_normalization_3/ReadVariableOp_1/resource:0', 'model/conv2d/Conv2D/ReadVariableOp:0', 'model/batch_normalization_8/FusedBatchNormV3/ReadVariableOp:0', 'model/batch_normalization_8/FusedBatchNormV3/ReadVariableOp_1:0', 'model/batch_normalization_2/ReadVariableOp_1:0', 'model/batch_normalization_13/ReadVariableOp_1:0', 'model/batch_normalization_5/FusedBatchNormV3/ReadVariableOp/resource:0', 'model/conv2d_1/Conv2D/ReadVariableOp:0', 'model/res2a_branch2a/BiasAdd/ReadVariableOp/resource:0', 'model/batch_normalization_12/FusedBatchNormV3/ReadVariableOp_1/resource:0', 'model/batch_normalization_9/FusedBatchNormV3/ReadVariableOp/resource:0', 'model/batch_normalization_9/ReadVariableOp_1/resource:0', 'model/batch_normalization_11/ReadVariableOp/resource:0', 'model/batch_normalization_6/FusedBatchNormV3/ReadVariableOp/resource:0', 'model/res1a_branch2b/BiasAdd/ReadVariableOp:0', 'model/batch_normalization_15/FusedBatchNormV3/ReadVariableOp:0', 'model/batch_normalization_16/FusedBatchNormV3/ReadVariableOp:0', 'model/batch_normalization_9/FusedBatchNormV3/ReadVariableOp_1:0', 'model/batch_normalization_11/ReadVariableOp_1:0', 'model/time_distributed/Reshape/shape:0', 'model/time_distributed/Reshape_1/shape:0', 'model/batch_normalization_7/ReadVariableOp/resource:0', 'model/batch_normalization_10/FusedBatchNormV3/ReadVariableOp/resource:0', 'model/batch_normalization_3/FusedBatchNormV3/ReadVariableOp/resource:0', 'model/conv2d_4/Conv2D/ReadVariableOp/resource:0', 'model/batch_normalization_18/ReadVariableOp/resource:0', 'model/time_distributed/softmax/BiasAdd/ReadVariableOp/resource:0', 'model/res1a_branch2a/Conv2D/ReadVariableOp/resource:0', 'model/res1a_branch2b/Conv2D/ReadVariableOp:0', 'model/conv2d_2/Conv2D/ReadVariableOp:0', 'model/batch_normalization_5/FusedBatchNormV3/ReadVariableOp_1/resource:0', 'model/batch_normalization_5/FusedBatchNormV3/ReadVariableOp:0', 'model/res1b_branch2a/Conv2D/ReadVariableOp:0', 'model/batch_normalization_14/FusedBatchNormV3/ReadVariableOp:0', 'model/res4a_branch2b/Conv2D/ReadVariableOp:0', 'model/res4b_branch2a/Conv2D/ReadVariableOp:0', 'model/res1b_branch2a/BiasAdd/ReadVariableOp:0', 'model/batch_normalization_4/FusedBatchNormV3/ReadVariableOp:0', 'model/batch_normalization_15/ReadVariableOp_1/resource:0', 'model/batch_normalization_1/ReadVariableOp_1/resource:0', 'model/batch_normalization_7/FusedBatchNormV3/ReadVariableOp_1/resource:0', 'model/batch_normalization_14/FusedBatchNormV3/ReadVariableOp_1/resource:0', 'model/batch_normalization_16/ReadVariableOp_1/resource:0', 'model/res1a_branch2a/BiasAdd/ReadVariableOp:0', 'model/res4a_branch2b/BiasAdd/ReadVariableOp/resource:0', 'model/res4a_branch2a/BiasAdd/ReadVariableOp:0', 'model/res3a_branch2b/Conv2D/ReadVariableOp/resource:0', 'model/batch_normalization_1/FusedBatchNormV3/ReadVariableOp/resource:0', 'model/res4a_branch2a/Conv2D/ReadVariableOp/resource:0', 'model/res4b_branch2b/BiasAdd/ReadVariableOp:0', 'model/res3a_branch2a/BiasAdd/ReadVariableOp:0', 'model/batch_normalization_11/ReadVariableOp_1/resource:0', 'model/batch_normalization_5/ReadVariableOp:0', 'model/batch_normalization_9/ReadVariableOp/resource:0', 'model/res1a_branch2a/Conv2D/ReadVariableOp:0', 'model/batch_normalization/FusedBatchNormV3/ReadVariableOp/resource:0', 'model/batch_normalization_5/ReadVariableOp/resource:0', 'model/batch_normalization_12/FusedBatchNormV3/ReadVariableOp/resource:0', 'model/res3a_branch2b/BiasAdd/ReadVariableOp:0', 'model/batch_normalization_15/ReadVariableOp_1:0', 'model/conv2d_3/BiasAdd/ReadVariableOp/resource:0', 'model/batch_normalization_6/FusedBatchNormV3/ReadVariableOp_1/resource:0', 'model/batch_normalization_8/ReadVariableOp_1/resource:0', 'model/batch_normalization_11/ReadVariableOp:0', 'model/batch_normalization_12/ReadVariableOp:0', 'model/res4b_branch2b/BiasAdd/ReadVariableOp/resource:0', 'model/conv2d_1/BiasAdd/ReadVariableOp/resource:0', 'model/res2b_branch2a/BiasAdd/ReadVariableOp:0', 'model/batch_normalization_14/FusedBatchNormV3/ReadVariableOp/resource:0', 'model/batch_normalization_16/FusedBatchNormV3/ReadVariableOp_1/resource:0', 'model/res3a_branch2a/Conv2D/ReadVariableOp/resource:0', 'model/batch_normalization_18/ReadVariableOp:0', 'model/time_distributed/softmax/MatMul/ReadVariableOp/resource:0', 'model/res3b_branch2a/Conv2D/ReadVariableOp/resource:0', 'model/res3b_branch2b/BiasAdd/ReadVariableOp/resource:0', 'model/res1b_branch2b/Conv2D/ReadVariableOp:0', 'model/batch_normalization_16/FusedBatchNormV3/ReadVariableOp_1:0', 'model/batch_normalization_15/FusedBatchNormV3/ReadVariableOp_1/resource:0', 'model/batch_normalization_7/ReadVariableOp:0', 'model/batch_normalization_9/ReadVariableOp_1:0', 'model/batch_normalization_8/ReadVariableOp/resource:0', 'model/batch_normalization_18/ReadVariableOp_1/resource:0', 'model/batch_normalization_8/ReadVariableOp:0', 'model/batch_normalization_10/FusedBatchNormV3/ReadVariableOp_1/resource:0', 'model/batch_normalization_10/ReadVariableOp:0', 'model/batch_normalization_3/ReadVariableOp:0', 'model/batch_normalization/ReadVariableOp_1:0', 'model/batch_normalization_11/FusedBatchNormV3/ReadVariableOp_1:0', 'model/batch_normalization/ReadVariableOp:0', 'model/batch_normalization_13/FusedBatchNormV3/ReadVariableOp/resource:0', 'model/batch_normalization_19/ReadVariableOp/resource:0', 'model/batch_normalization/FusedBatchNormV3/ReadVariableOp:0', 'model/batch_normalization_9/FusedBatchNormV3/ReadVariableOp_1/resource:0', 'model/batch_normalization_7/ReadVariableOp_1:0', 'model/batch_normalization_13/ReadVariableOp/resource:0', 'model/batch_normalization_10/FusedBatchNormV3/ReadVariableOp_1:0', 'model/res2b_branch2a/Conv2D/ReadVariableOp/resource:0', 'model/res1a_branch2b/Conv2D/ReadVariableOp/resource:0']\n",
            "124 nodes deleted\n",
            "60 nodes deleted\n",
            "0 nodes deleted\n",
            "[Op Fusion] fuse_bias_add() deleted 44 nodes.\n",
            "1 identity nodes deleted\n",
            "22 disconnected nodes deleted\n",
            "[Op Fusion] Fused 120 nodes into BatchNorms.\n",
            "[SSAConverter] Converting function main ...\n",
            "[SSAConverter] [1/76] Converting op type: 'Placeholder', name: 'input_1', output_shape: (-1, 32, 200, 3).\n",
            "[SSAConverter] [2/76] Converting op type: 'Const', name: 'model/time_distributed/Reshape/shape', output_shape: (2,).\n",
            "[SSAConverter] [3/76] Converting op type: 'Const', name: 'model/time_distributed/Reshape_1/shape', output_shape: (3,).\n",
            "[SSAConverter] [4/76] Converting op type: 'Transpose', name: 'input_1_to_nchw', output_shape: (-1, 3, 32, 200).\n",
            "[SSAConverter] [5/76] Converting op type: 'Conv2D', name: 'model/conv2d/Conv2D', output_shape: (-1, 64, 16, 100).\n",
            "[SSAConverter] [6/76] Converting op type: 'BatchNorm', name: 'model/batch_normalization/FusedBatchNormV3/Add_batch_norm', output_shape: (-1, 64, 16, 100).\n",
            "[SSAConverter] [7/76] Converting op type: 'Relu', name: 'model/re_lu/Relu', output_shape: (-1, 64, 16, 100).\n",
            "[SSAConverter] [8/76] Converting op type: 'MaxPool', name: 'model/max_pooling2d/MaxPool', output_shape: (-1, 64, 8, 50).\n",
            "[SSAConverter] [9/76] Converting op type: 'Conv2D', name: 'model/conv2d_1/Conv2D', output_shape: (-1, 128, 8, 50).\n",
            "[SSAConverter] [10/76] Converting op type: 'Conv2D', name: 'model/res1a_branch2a/Conv2D', output_shape: (-1, 128, 8, 50).\n",
            "[SSAConverter] [11/76] Converting op type: 'BatchNorm', name: 'model/batch_normalization_2/FusedBatchNormV3/Add_batch_norm', output_shape: (-1, 128, 8, 50).\n",
            "[SSAConverter] [12/76] Converting op type: 'BatchNorm', name: 'model/batch_normalization_1/FusedBatchNormV3/Add_batch_norm', output_shape: (-1, 128, 8, 50).\n",
            "[SSAConverter] [13/76] Converting op type: 'Relu', name: 'model/re_lu_1/Relu', output_shape: (-1, 128, 8, 50).\n",
            "[SSAConverter] [14/76] Converting op type: 'Conv2D', name: 'model/res1a_branch2b/Conv2D', output_shape: (-1, 128, 8, 50).\n",
            "[SSAConverter] [15/76] Converting op type: 'AddV2', name: 'model/add/add', output_shape: (-1, 128, 8, 50).\n",
            "[SSAConverter] [16/76] Converting op type: 'BatchNorm', name: 'model/batch_normalization_3/FusedBatchNormV3/Add_batch_norm', output_shape: (-1, 128, 8, 50).\n",
            "[SSAConverter] [17/76] Converting op type: 'Relu', name: 'model/re_lu_2/Relu', output_shape: (-1, 128, 8, 50).\n",
            "[SSAConverter] [18/76] Converting op type: 'Conv2D', name: 'model/res1b_branch2a/Conv2D', output_shape: (-1, 128, 8, 50).\n",
            "[SSAConverter] [19/76] Converting op type: 'BatchNorm', name: 'model/batch_normalization_4/FusedBatchNormV3/Add_batch_norm', output_shape: (-1, 128, 8, 50).\n",
            "[SSAConverter] [20/76] Converting op type: 'Relu', name: 'model/re_lu_3/Relu', output_shape: (-1, 128, 8, 50).\n",
            "[SSAConverter] [21/76] Converting op type: 'Conv2D', name: 'model/res1b_branch2b/Conv2D', output_shape: (-1, 128, 8, 50).\n",
            "[SSAConverter] [22/76] Converting op type: 'AddV2', name: 'model/add_1/add', output_shape: (-1, 128, 8, 50).\n",
            "[SSAConverter] [23/76] Converting op type: 'Conv2D', name: 'model/conv2d_2/Conv2D', output_shape: (-1, 256, 4, 50).\n",
            "[SSAConverter] [24/76] Converting op type: 'BatchNorm', name: 'model/batch_normalization_5/FusedBatchNormV3/Add_batch_norm', output_shape: (-1, 128, 8, 50).\n",
            "[SSAConverter] [25/76] Converting op type: 'BatchNorm', name: 'model/batch_normalization_7/FusedBatchNormV3/Add_batch_norm', output_shape: (-1, 256, 4, 50).\n",
            "[SSAConverter] [26/76] Converting op type: 'Relu', name: 'model/re_lu_4/Relu', output_shape: (-1, 128, 8, 50).\n",
            "[SSAConverter] [27/76] Converting op type: 'Conv2D', name: 'model/res2a_branch2a/Conv2D', output_shape: (-1, 256, 4, 50).\n",
            "[SSAConverter] [28/76] Converting op type: 'BatchNorm', name: 'model/batch_normalization_6/FusedBatchNormV3/Add_batch_norm', output_shape: (-1, 256, 4, 50).\n",
            "[SSAConverter] [29/76] Converting op type: 'Relu', name: 'model/re_lu_5/Relu', output_shape: (-1, 256, 4, 50).\n",
            "[SSAConverter] [30/76] Converting op type: 'Conv2D', name: 'model/res2a_branch2b/Conv2D', output_shape: (-1, 256, 4, 50).\n",
            "[SSAConverter] [31/76] Converting op type: 'AddV2', name: 'model/add_2/add', output_shape: (-1, 256, 4, 50).\n",
            "[SSAConverter] [32/76] Converting op type: 'BatchNorm', name: 'model/batch_normalization_8/FusedBatchNormV3/Add_batch_norm', output_shape: (-1, 256, 4, 50).\n",
            "[SSAConverter] [33/76] Converting op type: 'Relu', name: 'model/re_lu_6/Relu', output_shape: (-1, 256, 4, 50).\n",
            "[SSAConverter] [34/76] Converting op type: 'Conv2D', name: 'model/res2b_branch2a/Conv2D', output_shape: (-1, 256, 4, 50).\n",
            "[SSAConverter] [35/76] Converting op type: 'BatchNorm', name: 'model/batch_normalization_9/FusedBatchNormV3/Add_batch_norm', output_shape: (-1, 256, 4, 50).\n",
            "[SSAConverter] [36/76] Converting op type: 'Relu', name: 'model/re_lu_7/Relu', output_shape: (-1, 256, 4, 50).\n",
            "[SSAConverter] [37/76] Converting op type: 'Conv2D', name: 'model/res2b_branch2b/Conv2D', output_shape: (-1, 256, 4, 50).\n",
            "[SSAConverter] [38/76] Converting op type: 'AddV2', name: 'model/add_3/add', output_shape: (-1, 256, 4, 50).\n",
            "[SSAConverter] [39/76] Converting op type: 'Conv2D', name: 'model/conv2d_3/Conv2D', output_shape: (-1, 384, 2, 50).\n",
            "[SSAConverter] [40/76] Converting op type: 'BatchNorm', name: 'model/batch_normalization_10/FusedBatchNormV3/Add_batch_norm', output_shape: (-1, 256, 4, 50).\n",
            "[SSAConverter] [41/76] Converting op type: 'BatchNorm', name: 'model/batch_normalization_12/FusedBatchNormV3/Add_batch_norm', output_shape: (-1, 384, 2, 50).\n",
            "[SSAConverter] [42/76] Converting op type: 'Relu', name: 'model/re_lu_8/Relu', output_shape: (-1, 256, 4, 50).\n",
            "[SSAConverter] [43/76] Converting op type: 'Conv2D', name: 'model/res3a_branch2a/Conv2D', output_shape: (-1, 384, 2, 50).\n",
            "[SSAConverter] [44/76] Converting op type: 'BatchNorm', name: 'model/batch_normalization_11/FusedBatchNormV3/Add_batch_norm', output_shape: (-1, 384, 2, 50).\n",
            "[SSAConverter] [45/76] Converting op type: 'Relu', name: 'model/re_lu_9/Relu', output_shape: (-1, 384, 2, 50).\n",
            "[SSAConverter] [46/76] Converting op type: 'Conv2D', name: 'model/res3a_branch2b/Conv2D', output_shape: (-1, 384, 2, 50).\n",
            "[SSAConverter] [47/76] Converting op type: 'AddV2', name: 'model/add_4/add', output_shape: (-1, 384, 2, 50).\n",
            "[SSAConverter] [48/76] Converting op type: 'BatchNorm', name: 'model/batch_normalization_13/FusedBatchNormV3/Add_batch_norm', output_shape: (-1, 384, 2, 50).\n",
            "[SSAConverter] [49/76] Converting op type: 'Relu', name: 'model/re_lu_10/Relu', output_shape: (-1, 384, 2, 50).\n",
            "[SSAConverter] [50/76] Converting op type: 'Conv2D', name: 'model/res3b_branch2a/Conv2D', output_shape: (-1, 384, 2, 50).\n",
            "[SSAConverter] [51/76] Converting op type: 'BatchNorm', name: 'model/batch_normalization_14/FusedBatchNormV3/Add_batch_norm', output_shape: (-1, 384, 2, 50).\n",
            "[SSAConverter] [52/76] Converting op type: 'Relu', name: 'model/re_lu_11/Relu', output_shape: (-1, 384, 2, 50).\n",
            "[SSAConverter] [53/76] Converting op type: 'Conv2D', name: 'model/res3b_branch2b/Conv2D', output_shape: (-1, 384, 2, 50).\n",
            "[SSAConverter] [54/76] Converting op type: 'AddV2', name: 'model/add_5/add', output_shape: (-1, 384, 2, 50).\n",
            "[SSAConverter] [55/76] Converting op type: 'Conv2D', name: 'model/conv2d_4/Conv2D', output_shape: (-1, 512, 1, 50).\n",
            "[SSAConverter] [56/76] Converting op type: 'BatchNorm', name: 'model/batch_normalization_15/FusedBatchNormV3/Add_batch_norm', output_shape: (-1, 384, 2, 50).\n",
            "[SSAConverter] [57/76] Converting op type: 'BatchNorm', name: 'model/batch_normalization_17/FusedBatchNormV3/Add_batch_norm', output_shape: (-1, 512, 1, 50).\n",
            "[SSAConverter] [58/76] Converting op type: 'Relu', name: 'model/re_lu_12/Relu', output_shape: (-1, 384, 2, 50).\n",
            "[SSAConverter] [59/76] Converting op type: 'Conv2D', name: 'model/res4a_branch2a/Conv2D', output_shape: (-1, 512, 1, 50).\n",
            "[SSAConverter] [60/76] Converting op type: 'BatchNorm', name: 'model/batch_normalization_16/FusedBatchNormV3/Add_batch_norm', output_shape: (-1, 512, 1, 50).\n",
            "[SSAConverter] [61/76] Converting op type: 'Relu', name: 'model/re_lu_13/Relu', output_shape: (-1, 512, 1, 50).\n",
            "[SSAConverter] [62/76] Converting op type: 'Conv2D', name: 'model/res4a_branch2b/Conv2D', output_shape: (-1, 512, 1, 50).\n",
            "[SSAConverter] [63/76] Converting op type: 'AddV2', name: 'model/add_6/add', output_shape: (-1, 512, 1, 50).\n",
            "[SSAConverter] [64/76] Converting op type: 'BatchNorm', name: 'model/batch_normalization_18/FusedBatchNormV3/Add_batch_norm', output_shape: (-1, 512, 1, 50).\n",
            "[SSAConverter] [65/76] Converting op type: 'Relu', name: 'model/re_lu_14/Relu', output_shape: (-1, 512, 1, 50).\n",
            "[SSAConverter] [66/76] Converting op type: 'Conv2D', name: 'model/res4b_branch2a/Conv2D', output_shape: (-1, 512, 1, 50).\n",
            "[SSAConverter] [67/76] Converting op type: 'BatchNorm', name: 'model/batch_normalization_19/FusedBatchNormV3/Add_batch_norm', output_shape: (-1, 512, 1, 50).\n",
            "[SSAConverter] [68/76] Converting op type: 'Relu', name: 'model/re_lu_15/Relu', output_shape: (-1, 512, 1, 50).\n",
            "[SSAConverter] [69/76] Converting op type: 'Conv2D', name: 'model/res4b_branch2b/Conv2D', output_shape: (-1, 512, 1, 50).\n",
            "[SSAConverter] [70/76] Converting op type: 'AddV2', name: 'model/add_7/add', output_shape: (-1, 512, 1, 50).\n",
            "[SSAConverter] [71/76] Converting op type: 'Transpose', name: 'model/add_7/add_to_nhwc', output_shape: (-1, 1, 50, 512).\n",
            "[SSAConverter] [72/76] Converting op type: 'Squeeze', name: 'model/lambda/Squeeze', output_shape: (-1, 50, 512).\n",
            "[SSAConverter] [73/76] Converting op type: 'Reshape', name: 'model/time_distributed/Reshape', output_shape: (-1, 512).\n",
            "[SSAConverter] [74/76] Converting op type: 'MatMul', name: 'model/time_distributed/softmax/MatMul', output_shape: (-1, 91).\n",
            "[SSAConverter] [75/76] Converting op type: 'Softmax', name: 'model/time_distributed/softmax/Softmax', output_shape: (-1, 91).\n",
            "[SSAConverter] [76/76] Converting op type: 'Reshape', name: 'Identity', output_shape: (-1, 50, 91).\n",
            "[Core ML Pass] 2 disconnected constants nodes deleted\n"
          ],
          "name": "stdout"
        }
      ]
    },
    {
      "cell_type": "code",
      "metadata": {
        "id": "hOHQsJkhi8Ka",
        "colab_type": "code",
        "colab": {
          "base_uri": "https://localhost:8080/",
          "height": 51
        },
        "outputId": "46573ea6-cc93-4190-b339-6363995f01d0"
      },
      "source": [
        "import coremltools\n",
        "import cv2\n",
        "import tensorflow as tf\n",
        "import pandas as pd\n",
        "import matplotlib.pyplot as plt"
      ],
      "execution_count": 8,
      "outputs": [
        {
          "output_type": "stream",
          "text": [
            "WARNING:root:TensorFlow version 2.0.0 detected. Last version known to be fully compatible is 1.14.0 .\n",
            "WARNING:root:Keras version 2.2.5 detected. Last version known to be fully compatible of Keras is 2.2.4 .\n"
          ],
          "name": "stderr"
        }
      ]
    },
    {
      "cell_type": "code",
      "metadata": {
        "id": "tF-sQNKaB-58",
        "colab_type": "code",
        "colab": {}
      },
      "source": [
        "mlmodel = coremltools.models.MLModel(\"bin/2blocks_coreml_weights.mlmodel\")"
      ],
      "execution_count": 0,
      "outputs": []
    },
    {
      "cell_type": "code",
      "metadata": {
        "id": "ogV3rawiCW0a",
        "colab_type": "code",
        "outputId": "f0a52881-cc2f-4fb1-ba42-dd46aa6a09f4",
        "colab": {
          "base_uri": "https://localhost:8080/",
          "height": 204
        }
      },
      "source": [
        "labels = pd.read_csv(\"data/labels.csv\")\n",
        "labels.head()"
      ],
      "execution_count": 0,
      "outputs": [
        {
          "output_type": "execute_result",
          "data": {
            "text/html": [
              "<div>\n",
              "<style scoped>\n",
              "    .dataframe tbody tr th:only-of-type {\n",
              "        vertical-align: middle;\n",
              "    }\n",
              "\n",
              "    .dataframe tbody tr th {\n",
              "        vertical-align: top;\n",
              "    }\n",
              "\n",
              "    .dataframe thead th {\n",
              "        text-align: right;\n",
              "    }\n",
              "</style>\n",
              "<table border=\"1\" class=\"dataframe\">\n",
              "  <thead>\n",
              "    <tr style=\"text-align: right;\">\n",
              "      <th></th>\n",
              "      <th>image_id</th>\n",
              "      <th>text</th>\n",
              "      <th>width</th>\n",
              "      <th>height</th>\n",
              "    </tr>\n",
              "  </thead>\n",
              "  <tbody>\n",
              "    <tr>\n",
              "      <th>0</th>\n",
              "      <td>cfcd208495d565ef66e7dff9f98764da</td>\n",
              "      <td>hibernates</td>\n",
              "      <td>112</td>\n",
              "      <td>32</td>\n",
              "    </tr>\n",
              "    <tr>\n",
              "      <th>1</th>\n",
              "      <td>c4ca4238a0b923820dcc509a6f75849b</td>\n",
              "      <td>muscles</td>\n",
              "      <td>79</td>\n",
              "      <td>32</td>\n",
              "    </tr>\n",
              "    <tr>\n",
              "      <th>2</th>\n",
              "      <td>c81e728d9d4c2f636f067f89cc14862c</td>\n",
              "      <td>domination</td>\n",
              "      <td>109</td>\n",
              "      <td>32</td>\n",
              "    </tr>\n",
              "    <tr>\n",
              "      <th>3</th>\n",
              "      <td>eccbc87e4b5ce2fe28308fd9f2a7baf3</td>\n",
              "      <td>sitars</td>\n",
              "      <td>59</td>\n",
              "      <td>32</td>\n",
              "    </tr>\n",
              "    <tr>\n",
              "      <th>4</th>\n",
              "      <td>a87ff679a2f3e71d9181a67b7542122c</td>\n",
              "      <td>fuzzes</td>\n",
              "      <td>64</td>\n",
              "      <td>32</td>\n",
              "    </tr>\n",
              "  </tbody>\n",
              "</table>\n",
              "</div>"
            ],
            "text/plain": [
              "                           image_id        text  width  height\n",
              "0  cfcd208495d565ef66e7dff9f98764da  hibernates    112      32\n",
              "1  c4ca4238a0b923820dcc509a6f75849b     muscles     79      32\n",
              "2  c81e728d9d4c2f636f067f89cc14862c  domination    109      32\n",
              "3  eccbc87e4b5ce2fe28308fd9f2a7baf3      sitars     59      32\n",
              "4  a87ff679a2f3e71d9181a67b7542122c      fuzzes     64      32"
            ]
          },
          "metadata": {
            "tags": []
          },
          "execution_count": 18
        }
      ]
    },
    {
      "cell_type": "code",
      "metadata": {
        "id": "DAQiR2beDrff",
        "colab_type": "code",
        "outputId": "481f0d37-5717-4c9d-dc43-78db9762b462",
        "colab": {
          "base_uri": "https://localhost:8080/",
          "height": 34
        }
      },
      "source": [
        "labels.loc[0, \"image_id\"]"
      ],
      "execution_count": 0,
      "outputs": [
        {
          "output_type": "execute_result",
          "data": {
            "text/plain": [
              "'cfcd208495d565ef66e7dff9f98764da'"
            ]
          },
          "metadata": {
            "tags": []
          },
          "execution_count": 20
        }
      ]
    },
    {
      "cell_type": "code",
      "metadata": {
        "id": "ADqJySrtDjwP",
        "colab_type": "code",
        "outputId": "15480f20-721e-48be-a21d-d7fd14ed4e57",
        "colab": {
          "base_uri": "https://localhost:8080/",
          "height": 163
        }
      },
      "source": [
        "img = cv2.imread(f\"data/images/{labels.loc[0, 'image_id']}.png\")\n",
        "plt.imshow(img)"
      ],
      "execution_count": 0,
      "outputs": [
        {
          "output_type": "execute_result",
          "data": {
            "text/plain": [
              "<matplotlib.image.AxesImage at 0x7fd1c2db1320>"
            ]
          },
          "metadata": {
            "tags": []
          },
          "execution_count": 23
        },
        {
          "output_type": "display_data",
          "data": {
            "image/png": "[encoded data removed]",
            "text/plain": [
              "<Figure size 432x288 with 1 Axes>"
            ]
          },
          "metadata": {
            "tags": []
          }
        }
      ]
    },
    {
      "cell_type": "code",
      "metadata": {
        "id": "0nSf-3jtD67q",
        "colab_type": "code",
        "outputId": "9340cb48-4b3b-473f-d972-39bd4f637758",
        "colab": {
          "base_uri": "https://localhost:8080/",
          "height": 283
        }
      },
      "source": [
        "pred = mlmodel.predict({\"image\": img})"
      ],
      "execution_count": 0,
      "outputs": [
        {
          "output_type": "error",
          "ename": "Exception",
          "evalue": "ignored",
          "traceback": [
            "\u001b[0;31m---------------------------------------------------------------------------\u001b[0m",
            "\u001b[0;31mException\u001b[0m                                 Traceback (most recent call last)",
            "\u001b[0;32m<ipython-input-24-8fb9346d1ef1>\u001b[0m in \u001b[0;36m<module>\u001b[0;34m()\u001b[0m\n\u001b[0;32m----> 1\u001b[0;31m \u001b[0mpred\u001b[0m \u001b[0;34m=\u001b[0m \u001b[0mmlmodel\u001b[0m\u001b[0;34m.\u001b[0m\u001b[0mpredict\u001b[0m\u001b[0;34m(\u001b[0m\u001b[0;34m{\u001b[0m\u001b[0;34m\"image\"\u001b[0m\u001b[0;34m:\u001b[0m \u001b[0mimg\u001b[0m\u001b[0;34m}\u001b[0m\u001b[0;34m)\u001b[0m\u001b[0;34m\u001b[0m\u001b[0;34m\u001b[0m\u001b[0m\n\u001b[0m",
            "\u001b[0;32m/usr/local/lib/python3.6/dist-packages/coremltools/models/model.py\u001b[0m in \u001b[0;36mpredict\u001b[0;34m(self, data, useCPUOnly, **kwargs)\u001b[0m\n\u001b[1;32m    331\u001b[0m         \u001b[0;32melse\u001b[0m\u001b[0;34m:\u001b[0m\u001b[0;34m\u001b[0m\u001b[0;34m\u001b[0m\u001b[0m\n\u001b[1;32m    332\u001b[0m             \u001b[0;32mif\u001b[0m \u001b[0m_macos_version\u001b[0m\u001b[0;34m(\u001b[0m\u001b[0;34m)\u001b[0m \u001b[0;34m<\u001b[0m \u001b[0;34m(\u001b[0m\u001b[0;36m10\u001b[0m\u001b[0;34m,\u001b[0m \u001b[0;36m13\u001b[0m\u001b[0;34m)\u001b[0m\u001b[0;34m:\u001b[0m\u001b[0;34m\u001b[0m\u001b[0;34m\u001b[0m\u001b[0m\n\u001b[0;32m--> 333\u001b[0;31m                 \u001b[0;32mraise\u001b[0m \u001b[0mException\u001b[0m\u001b[0;34m(\u001b[0m\u001b[0;34m'Model prediction is only supported on macOS version 10.13 or later.'\u001b[0m\u001b[0;34m)\u001b[0m\u001b[0;34m\u001b[0m\u001b[0;34m\u001b[0m\u001b[0m\n\u001b[0m\u001b[1;32m    334\u001b[0m \u001b[0;34m\u001b[0m\u001b[0m\n\u001b[1;32m    335\u001b[0m             \u001b[0;32mtry\u001b[0m\u001b[0;34m:\u001b[0m\u001b[0;34m\u001b[0m\u001b[0;34m\u001b[0m\u001b[0m\n",
            "\u001b[0;31mException\u001b[0m: Model prediction is only supported on macOS version 10.13 or later."
          ]
        }
      ]
    },
    {
      "cell_type": "code",
      "metadata": {
        "id": "WTB8H6pEEQnJ",
        "colab_type": "code",
        "colab": {}
      },
      "source": [
        ""
      ],
      "execution_count": 0,
      "outputs": []
    }
  ]
}