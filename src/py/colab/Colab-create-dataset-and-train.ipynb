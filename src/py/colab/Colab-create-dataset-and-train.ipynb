{
  "nbformat": 4,
  "nbformat_minor": 0,
  "metadata": {
    "kernelspec": {
      "name": "python3",
      "display_name": "Python 3"
    },
    "language_info": {
      "codemirror_mode": {
        "name": "ipython",
        "version": 3
      },
      "file_extension": ".py",
      "mimetype": "text/x-python",
      "name": "python",
      "nbconvert_exporter": "python",
      "pygments_lexer": "ipython3",
      "version": "3.6.7"
    },
    "colab": {
      "name": "Colab-create-dataset-and-train.ipynb",
      "provenance": [],
      "toc_visible": true,
      "include_colab_link": true
    },
    "accelerator": "GPU"
  },
  "cells": [
    {
      "cell_type": "markdown",
      "metadata": {
        "id": "view-in-github",
        "colab_type": "text"
      },
      "source": [
        "<a href=\"https://colab.research.google.com/github/koukyo1994/iOS-note-v2/blob/master/src/py/colab/Colab-create-dataset-and-train.ipynb\" target=\"_parent\"><img src=\"https://colab.research.google.com/assets/colab-badge.svg\" alt=\"Open In Colab\"/></a>"
      ]
    },
    {
      "cell_type": "markdown",
      "metadata": {
        "id": "BpTI0ZUNM0t_",
        "colab_type": "text"
      },
      "source": [
        "## Setup"
      ]
    },
    {
      "cell_type": "code",
      "metadata": {
        "id": "VB3gkaOoM0uB",
        "colab_type": "code",
        "outputId": "3c25799a-e5fa-4e1a-a838-c5484aa7d3ac",
        "colab": {
          "base_uri": "https://localhost:8080/",
          "height": 187
        }
      },
      "source": [
        "%%sh\n",
        "apt -qq -y update >> /dev/null\n",
        "apt -qq -y install fonts-ipafont wamerican >> /dev/null\n",
        "pip install tensorflow-gpu==2.0.0 imgaug==0.2.6 coremltools==3.1 >> /dev/null"
      ],
      "execution_count": 0,
      "outputs": [
        {
          "output_type": "stream",
          "text": [
            "\n",
            "WARNING: apt does not have a stable CLI interface. Use with caution in scripts.\n",
            "\n",
            "\n",
            "WARNING: apt does not have a stable CLI interface. Use with caution in scripts.\n",
            "\n",
            "ERROR: tensorflow 1.15.0 has requirement tensorboard<1.16.0,>=1.15.0, but you'll have tensorboard 2.0.2 which is incompatible.\n",
            "ERROR: tensorflow 1.15.0 has requirement tensorflow-estimator==1.15.1, but you'll have tensorflow-estimator 2.0.1 which is incompatible.\n",
            "ERROR: tensorboard 2.0.2 has requirement grpcio>=1.24.3, but you'll have grpcio 1.15.0 which is incompatible.\n",
            "ERROR: google-colab 1.0.0 has requirement google-auth~=1.4.0, but you'll have google-auth 1.10.0 which is incompatible.\n"
          ],
          "name": "stderr"
        }
      ]
    },
    {
      "cell_type": "code",
      "metadata": {
        "id": "SpTZf0ZeM0uF",
        "colab_type": "code",
        "outputId": "ba69a1ee-890e-4eae-a9b2-efa7020acfce",
        "colab": {
          "base_uri": "https://localhost:8080/",
          "height": 136
        }
      },
      "source": [
        "!git clone https://github.com/koukyo1994/iOS-note-v2.git"
      ],
      "execution_count": 0,
      "outputs": [
        {
          "output_type": "stream",
          "text": [
            "Cloning into 'iOS-note-v2'...\n",
            "remote: Enumerating objects: 165, done.\u001b[K\n",
            "remote: Counting objects:   0% (1/165)\u001b[K\rremote: Counting objects:   1% (2/165)\u001b[K\rremote: Counting objects:   2% (4/165)\u001b[K\rremote: Counting objects:   3% (5/165)\u001b[K\rremote: Counting objects:   4% (7/165)\u001b[K\rremote: Counting objects:   5% (9/165)\u001b[K\rremote: Counting objects:   6% (10/165)\u001b[K\rremote: Counting objects:   7% (12/165)\u001b[K\rremote: Counting objects:   8% (14/165)\u001b[K\rremote: Counting objects:   9% (15/165)\u001b[K\rremote: Counting objects:  10% (17/165)\u001b[K\rremote: Counting objects:  11% (19/165)\u001b[K\rremote: Counting objects:  12% (20/165)\u001b[K\rremote: Counting objects:  13% (22/165)\u001b[K\rremote: Counting objects:  14% (24/165)\u001b[K\rremote: Counting objects:  15% (25/165)\u001b[K\rremote: Counting objects:  16% (27/165)\u001b[K\rremote: Counting objects:  17% (29/165)\u001b[K\rremote: Counting objects:  18% (30/165)\u001b[K\rremote: Counting objects:  19% (32/165)\u001b[K\rremote: Counting objects:  20% (33/165)\u001b[K\rremote: Counting objects:  21% (35/165)\u001b[K\rremote: Counting objects:  22% (37/165)\u001b[K\rremote: Counting objects:  23% (38/165)\u001b[K\rremote: Counting objects:  24% (40/165)\u001b[K\rremote: Counting objects:  25% (42/165)\u001b[K\rremote: Counting objects:  26% (43/165)\u001b[K\rremote: Counting objects:  27% (45/165)\u001b[K\rremote: Counting objects:  28% (47/165)\u001b[K\rremote: Counting objects:  29% (48/165)\u001b[K\rremote: Counting objects:  30% (50/165)\u001b[K\rremote: Counting objects:  31% (52/165)\u001b[K\rremote: Counting objects:  32% (53/165)\u001b[K\rremote: Counting objects:  33% (55/165)\u001b[K\rremote: Counting objects:  34% (57/165)\u001b[K\rremote: Counting objects:  35% (58/165)\u001b[K\rremote: Counting objects:  36% (60/165)\u001b[K\rremote: Counting objects:  37% (62/165)\u001b[K\rremote: Counting objects:  38% (63/165)\u001b[K\rremote: Counting objects:  39% (65/165)\u001b[K\rremote: Counting objects:  40% (66/165)\u001b[K\rremote: Counting objects:  41% (68/165)\u001b[K\rremote: Counting objects:  42% (70/165)\u001b[K\rremote: Counting objects:  43% (71/165)\u001b[K\rremote: Counting objects:  44% (73/165)\u001b[K\rremote: Counting objects:  45% (75/165)\u001b[K\rremote: Counting objects:  46% (76/165)\u001b[K\rremote: Counting objects:  47% (78/165)\u001b[K\rremote: Counting objects:  48% (80/165)\u001b[K\rremote: Counting objects:  49% (81/165)\u001b[K\rremote: Counting objects:  50% (83/165)\u001b[K\rremote: Counting objects:  51% (85/165)\u001b[K\rremote: Counting objects:  52% (86/165)\u001b[K\rremote: Counting objects:  53% (88/165)\u001b[K\rremote: Counting objects:  54% (90/165)\u001b[K\rremote: Counting objects:  55% (91/165)\u001b[K\rremote: Counting objects:  56% (93/165)\u001b[K\rremote: Counting objects:  57% (95/165)\u001b[K\rremote: Counting objects:  58% (96/165)\u001b[K\rremote: Counting objects:  59% (98/165)\u001b[K\rremote: Counting objects:  60% (99/165)\u001b[K\rremote: Counting objects:  61% (101/165)\u001b[K\rremote: Counting objects:  62% (103/165)\u001b[K\rremote: Counting objects:  63% (104/165)\u001b[K\rremote: Counting objects:  64% (106/165)\u001b[K\rremote: Counting objects:  65% (108/165)\u001b[K\rremote: Counting objects:  66% (109/165)\u001b[K\rremote: Counting objects:  67% (111/165)\u001b[K\rremote: Counting objects:  68% (113/165)\u001b[K\rremote: Counting objects:  69% (114/165)\u001b[K\rremote: Counting objects:  70% (116/165)\u001b[K\rremote: Counting objects:  71% (118/165)\u001b[K\rremote: Counting objects:  72% (119/165)\u001b[K\rremote: Counting objects:  73% (121/165)\u001b[K\rremote: Counting objects:  74% (123/165)\u001b[K\rremote: Counting objects:  75% (124/165)\u001b[K\rremote: Counting objects:  76% (126/165)\u001b[K\rremote: Counting objects:  77% (128/165)\u001b[K\rremote: Counting objects:  78% (129/165)\u001b[K\rremote: Counting objects:  79% (131/165)\u001b[K\rremote: Counting objects:  80% (132/165)\u001b[K\rremote: Counting objects:  81% (134/165)\u001b[K\rremote: Counting objects:  82% (136/165)\u001b[K\rremote: Counting objects:  83% (137/165)\u001b[K\rremote: Counting objects:  84% (139/165)\u001b[K\rremote: Counting objects:  85% (141/165)\u001b[K\rremote: Counting objects:  86% (142/165)\u001b[K\rremote: Counting objects:  87% (144/165)\u001b[K\rremote: Counting objects:  88% (146/165)\u001b[K\rremote: Counting objects:  89% (147/165)\u001b[K\rremote: Counting objects:  90% (149/165)\u001b[K\rremote: Counting objects:  91% (151/165)\u001b[K\rremote: Counting objects:  92% (152/165)\u001b[K\rremote: Counting objects:  93% (154/165)\u001b[K\rremote: Counting objects:  94% (156/165)\u001b[K\rremote: Counting objects:  95% (157/165)\u001b[K\rremote: Counting objects:  96% (159/165)\u001b[K\rremote: Counting objects:  97% (161/165)\u001b[K\rremote: Counting objects:  98% (162/165)\u001b[K\rremote: Counting objects:  99% (164/165)\u001b[K\rremote: Counting objects: 100% (165/165)\u001b[K\rremote: Counting objects: 100% (165/165), done.\u001b[K\n",
            "remote: Compressing objects:   0% (1/133)\u001b[K\rremote: Compressing objects:   1% (2/133)\u001b[K\rremote: Compressing objects:   2% (3/133)\u001b[K\rremote: Compressing objects:   3% (4/133)\u001b[K\rremote: Compressing objects:   4% (6/133)\u001b[K\rremote: Compressing objects:   5% (7/133)\u001b[K\rremote: Compressing objects:   6% (8/133)\u001b[K\rremote: Compressing objects:   7% (10/133)\u001b[K\rremote: Compressing objects:   8% (11/133)\u001b[K\rremote: Compressing objects:   9% (12/133)\u001b[K\rremote: Compressing objects:  10% (14/133)\u001b[K\rremote: Compressing objects:  11% (15/133)\u001b[K\rremote: Compressing objects:  12% (16/133)\u001b[K\rremote: Compressing objects:  13% (18/133)\u001b[K\rremote: Compressing objects:  14% (19/133)\u001b[K\rremote: Compressing objects:  15% (20/133)\u001b[K\rremote: Compressing objects:  16% (22/133)\u001b[K\rremote: Compressing objects:  17% (23/133)\u001b[K\rremote: Compressing objects:  18% (24/133)\u001b[K\rremote: Compressing objects:  19% (26/133)\u001b[K\rremote: Compressing objects:  20% (27/133)\u001b[K\rremote: Compressing objects:  21% (28/133)\u001b[K\rremote: Compressing objects:  22% (30/133)\u001b[K\rremote: Compressing objects:  23% (31/133)\u001b[K\rremote: Compressing objects:  24% (32/133)\u001b[K\rremote: Compressing objects:  25% (34/133)\u001b[K\rremote: Compressing objects:  26% (35/133)\u001b[K\rremote: Compressing objects:  27% (36/133)\u001b[K\rremote: Compressing objects:  28% (38/133)\u001b[K\rremote: Compressing objects:  29% (39/133)\u001b[K\rremote: Compressing objects:  30% (40/133)\u001b[K\rremote: Compressing objects:  31% (42/133)\u001b[K\rremote: Compressing objects:  32% (43/133)\u001b[K\rremote: Compressing objects:  33% (44/133)\u001b[K\rremote: Compressing objects:  34% (46/133)\u001b[K\rremote: Compressing objects:  35% (47/133)\u001b[K\rremote: Compressing objects:  36% (48/133)\u001b[K\rremote: Compressing objects:  37% (50/133)\u001b[K\rremote: Compressing objects:  38% (51/133)\u001b[K\rremote: Compressing objects:  39% (52/133)\u001b[K\rremote: Compressing objects:  40% (54/133)\u001b[K\rremote: Compressing objects:  41% (55/133)\u001b[K\rremote: Compressing objects:  42% (56/133)\u001b[K\rremote: Compressing objects:  43% (58/133)\u001b[K\rremote: Compressing objects:  44% (59/133)\u001b[K\rremote: Compressing objects:  45% (60/133)\u001b[K\rremote: Compressing objects:  46% (62/133)\u001b[K\rremote: Compressing objects:  47% (63/133)\u001b[K\rremote: Compressing objects:  48% (64/133)\u001b[K\rremote: Compressing objects:  49% (66/133)\u001b[K\rremote: Compressing objects:  50% (67/133)\u001b[K\rremote: Compressing objects:  51% (68/133)\u001b[K\rremote: Compressing objects:  52% (70/133)\u001b[K\rremote: Compressing objects:  53% (71/133)\u001b[K\rremote: Compressing objects:  54% (72/133)\u001b[K\rremote: Compressing objects:  55% (74/133)\u001b[K\rremote: Compressing objects:  56% (75/133)\u001b[K\rremote: Compressing objects:  57% (76/133)\u001b[K\rremote: Compressing objects:  58% (78/133)\u001b[K\rremote: Compressing objects:  59% (79/133)\u001b[K\rremote: Compressing objects:  60% (80/133)\u001b[K\rremote: Compressing objects:  61% (82/133)\u001b[K\rremote: Compressing objects:  62% (83/133)\u001b[K\rremote: Compressing objects:  63% (84/133)\u001b[K\rremote: Compressing objects:  64% (86/133)\u001b[K\rremote: Compressing objects:  65% (87/133)\u001b[K\rremote: Compressing objects:  66% (88/133)\u001b[K\rremote: Compressing objects:  67% (90/133)\u001b[K\rremote: Compressing objects:  68% (91/133)\u001b[K\rremote: Compressing objects:  69% (92/133)\u001b[K\rremote: Compressing objects:  70% (94/133)\u001b[K\rremote: Compressing objects:  71% (95/133)\u001b[K\rremote: Compressing objects:  72% (96/133)\u001b[K\rremote: Compressing objects:  73% (98/133)\u001b[K\rremote: Compressing objects:  74% (99/133)\u001b[K\rremote: Compressing objects:  75% (100/133)\u001b[K\rremote: Compressing objects:  76% (102/133)\u001b[K\rremote: Compressing objects:  77% (103/133)\u001b[K\rremote: Compressing objects:  78% (104/133)\u001b[K\rremote: Compressing objects:  79% (106/133)\u001b[K\rremote: Compressing objects:  80% (107/133)\u001b[K\rremote: Compressing objects:  81% (108/133)\u001b[K\rremote: Compressing objects:  82% (110/133)\u001b[K\rremote: Compressing objects:  83% (111/133)\u001b[K\rremote: Compressing objects:  84% (112/133)\u001b[K\rremote: Compressing objects:  85% (114/133)\u001b[K\rremote: Compressing objects:  86% (115/133)\u001b[K\rremote: Compressing objects:  87% (116/133)\u001b[K\rremote: Compressing objects:  88% (118/133)\u001b[K\rremote: Compressing objects:  89% (119/133)\u001b[K\rremote: Compressing objects:  90% (120/133)\u001b[K\rremote: Compressing objects:  91% (122/133)\u001b[K\rremote: Compressing objects:  92% (123/133)\u001b[K\rremote: Compressing objects:  93% (124/133)\u001b[K\rremote: Compressing objects:  94% (126/133)\u001b[K\rremote: Compressing objects:  95% (127/133)\u001b[K\rremote: Compressing objects:  96% (128/133)\u001b[K\rremote: Compressing objects:  97% (130/133)\u001b[K\rremote: Compressing objects:  98% (131/133)\u001b[K\rremote: Compressing objects:  99% (132/133)\u001b[K\rremote: Compressing objects: 100% (133/133)\u001b[K\rremote: Compressing objects: 100% (133/133), done.\u001b[K\n",
            "Receiving objects:   0% (1/165)   \rReceiving objects:   1% (2/165)   \rReceiving objects:   2% (4/165)   \rReceiving objects:   3% (5/165)   \rReceiving objects:   4% (7/165)   \rReceiving objects:   5% (9/165)   \rReceiving objects:   6% (10/165)   \rReceiving objects:   7% (12/165)   \rReceiving objects:   8% (14/165)   \rReceiving objects:   9% (15/165)   \rReceiving objects:  10% (17/165)   \rReceiving objects:  11% (19/165)   \rReceiving objects:  12% (20/165)   \rReceiving objects:  13% (22/165)   \rReceiving objects:  14% (24/165)   \rReceiving objects:  15% (25/165)   \rReceiving objects:  16% (27/165)   \rReceiving objects:  17% (29/165)   \rReceiving objects:  18% (30/165)   \rReceiving objects:  19% (32/165)   \rReceiving objects:  20% (33/165)   \rReceiving objects:  21% (35/165)   \rReceiving objects:  22% (37/165)   \rReceiving objects:  23% (38/165)   \rReceiving objects:  24% (40/165)   \rReceiving objects:  25% (42/165)   \rReceiving objects:  26% (43/165)   \rReceiving objects:  27% (45/165)   \rReceiving objects:  28% (47/165)   \rReceiving objects:  29% (48/165)   \rReceiving objects:  30% (50/165)   \rReceiving objects:  31% (52/165)   \rReceiving objects:  32% (53/165)   \rReceiving objects:  33% (55/165)   \rReceiving objects:  34% (57/165)   \rReceiving objects:  35% (58/165)   \rReceiving objects:  36% (60/165)   \rReceiving objects:  37% (62/165)   \rReceiving objects:  38% (63/165)   \rReceiving objects:  39% (65/165)   \rReceiving objects:  40% (66/165)   \rReceiving objects:  41% (68/165)   \rReceiving objects:  42% (70/165)   \rReceiving objects:  43% (71/165)   \rReceiving objects:  44% (73/165)   \rReceiving objects:  45% (75/165)   \rReceiving objects:  46% (76/165)   \rReceiving objects:  47% (78/165)   \rReceiving objects:  48% (80/165)   \rReceiving objects:  49% (81/165)   \rReceiving objects:  50% (83/165)   \rReceiving objects:  51% (85/165)   \rReceiving objects:  52% (86/165)   \rReceiving objects:  53% (88/165)   \rReceiving objects:  54% (90/165)   \rReceiving objects:  55% (91/165)   \rReceiving objects:  56% (93/165)   \rReceiving objects:  57% (95/165)   \rReceiving objects:  58% (96/165)   \rReceiving objects:  59% (98/165)   \rReceiving objects:  60% (99/165)   \rReceiving objects:  61% (101/165)   \rReceiving objects:  62% (103/165)   \rReceiving objects:  63% (104/165)   \rReceiving objects:  64% (106/165)   \rReceiving objects:  65% (108/165)   \rReceiving objects:  66% (109/165)   \rReceiving objects:  67% (111/165)   \rReceiving objects:  68% (113/165)   \rReceiving objects:  69% (114/165)   \rReceiving objects:  70% (116/165)   \rReceiving objects:  71% (118/165)   \rReceiving objects:  72% (119/165)   \rReceiving objects:  73% (121/165)   \rReceiving objects:  74% (123/165)   \rReceiving objects:  75% (124/165)   \rReceiving objects:  76% (126/165)   \rReceiving objects:  77% (128/165)   \rReceiving objects:  78% (129/165)   \rReceiving objects:  79% (131/165)   \rReceiving objects:  80% (132/165)   \rremote: Total 165 (delta 36), reused 158 (delta 29), pack-reused 0\u001b[K\n",
            "Receiving objects:  81% (134/165)   \rReceiving objects:  82% (136/165)   \rReceiving objects:  83% (137/165)   \rReceiving objects:  84% (139/165)   \rReceiving objects:  85% (141/165)   \rReceiving objects:  86% (142/165)   \rReceiving objects:  87% (144/165)   \rReceiving objects:  88% (146/165)   \rReceiving objects:  89% (147/165)   \rReceiving objects:  90% (149/165)   \rReceiving objects:  91% (151/165)   \rReceiving objects:  92% (152/165)   \rReceiving objects:  93% (154/165)   \rReceiving objects:  94% (156/165)   \rReceiving objects:  95% (157/165)   \rReceiving objects:  96% (159/165)   \rReceiving objects:  97% (161/165)   \rReceiving objects:  98% (162/165)   \rReceiving objects:  99% (164/165)   \rReceiving objects: 100% (165/165)   \rReceiving objects: 100% (165/165), 2.32 MiB | 14.96 MiB/s, done.\n",
            "Resolving deltas:   0% (0/36)   \rResolving deltas:  19% (7/36)   \rResolving deltas:  22% (8/36)   \rResolving deltas:  30% (11/36)   \rResolving deltas:  41% (15/36)   \rResolving deltas:  44% (16/36)   \rResolving deltas:  58% (21/36)   \rResolving deltas:  61% (22/36)   \rResolving deltas:  63% (23/36)   \rResolving deltas:  66% (24/36)   \rResolving deltas:  69% (25/36)   \rResolving deltas:  72% (26/36)   \rResolving deltas:  80% (29/36)   \rResolving deltas:  83% (30/36)   \rResolving deltas:  88% (32/36)   \rResolving deltas:  91% (33/36)   \rResolving deltas:  94% (34/36)   \rResolving deltas:  97% (35/36)   \rResolving deltas: 100% (36/36)   \rResolving deltas: 100% (36/36), done.\n"
          ],
          "name": "stdout"
        }
      ]
    },
    {
      "cell_type": "markdown",
      "metadata": {
        "id": "cldi5yNjcCKf",
        "colab_type": "text"
      },
      "source": [
        "## Create Dataset"
      ]
    },
    {
      "cell_type": "code",
      "metadata": {
        "id": "klFTCJwfM0uI",
        "colab_type": "code",
        "outputId": "37aeb4e8-1eb5-43d2-f07f-f26fb8469868",
        "colab": {
          "base_uri": "https://localhost:8080/",
          "height": 527
        }
      },
      "source": [
        "%cd /content/iOS-note-v2/src/py\n",
        "!make create-dataset NSAMPLES=60000"
      ],
      "execution_count": 0,
      "outputs": [
        {
          "output_type": "stream",
          "text": [
            "/content/iOS-note-v2/src/py\n",
            "chmod +x setup.sh\n",
            "make font-setup\n",
            "make[1]: Entering directory '/content/iOS-note-v2/src/py'\n",
            "./setup.sh\n",
            "alanis-hand\n",
            "architext\n",
            "ashcan-bb\n",
            "./setup.sh: 7: [: ashcanbb_bold.ttf: unexpected operator\n",
            "attack-of-the-cucumbers\n",
            "./setup.sh: 7: [: attack: unexpected operator\n",
            "attract-more-women\n",
            "blzee\n",
            "calligravity\n",
            "domestic-manners\n",
            "FH-GoodDogPlain-WTT\n",
            "james-almacen\n",
            "james-fajardo\n",
            "./setup.sh: 7: [: James: unexpected operator\n",
            "khand\n",
            "ladylike-bb\n",
            "mulders-handwriting\n",
            "mumsies\n",
            "Otto\n",
            "pecita\n",
            "quikhand\n",
            "Sophia\n",
            "two-turtle-doves\n",
            "make[1]: Leaving directory '/content/iOS-note-v2/src/py'\n",
            "python create_dataset.py --n_samples 60000\n"
          ],
          "name": "stdout"
        }
      ]
    },
    {
      "cell_type": "markdown",
      "metadata": {
        "id": "muqkdWAPcFYN",
        "colab_type": "text"
      },
      "source": [
        "## Save Dataset in Google Drive"
      ]
    },
    {
      "cell_type": "code",
      "metadata": {
        "id": "GTQ5ZsJwM0uK",
        "colab_type": "code",
        "outputId": "c025a4a9-0fe9-4dba-cbff-5c7d22159c18",
        "colab": {
          "base_uri": "https://localhost:8080/",
          "height": 122
        }
      },
      "source": [
        "from google.colab import drive\n",
        "drive.mount(\"/content/gdrive\")"
      ],
      "execution_count": 0,
      "outputs": [
        {
          "output_type": "stream",
          "text": [
            "Go to this URL in a browser: https://accounts.google.com/o/oauth2/auth?client_id=947318989803-6bn6qk8qdgf4n4g3pfee6491hc0brc4i.apps.googleusercontent.com&redirect_uri=urn%3aietf%3awg%3aoauth%3a2.0%3aoob&response_type=code&scope=email%20https%3a%2f%2fwww.googleapis.com%2fauth%2fdocs.test%20https%3a%2f%2fwww.googleapis.com%2fauth%2fdrive%20https%3a%2f%2fwww.googleapis.com%2fauth%2fdrive.photos.readonly%20https%3a%2f%2fwww.googleapis.com%2fauth%2fpeopleapi.readonly\n",
            "\n",
            "Enter your authorization code:\n",
            "··········\n",
            "Mounted at /content/gdrive\n"
          ],
          "name": "stdout"
        }
      ]
    },
    {
      "cell_type": "code",
      "metadata": {
        "id": "5sL6bYdfM0uM",
        "colab_type": "code",
        "colab": {}
      },
      "source": [
        "!cp -r data/images /content/gdrive/My\\ Drive/AppliedML/\n",
        "!cp data/labels.csv /content/gdrive/My\\ Drive/AppliedML/"
      ],
      "execution_count": 0,
      "outputs": []
    },
    {
      "cell_type": "markdown",
      "metadata": {
        "id": "juvw9y15cJbr",
        "colab_type": "text"
      },
      "source": [
        "## Training"
      ]
    },
    {
      "cell_type": "code",
      "metadata": {
        "id": "gKAcedl7UfFE",
        "colab_type": "code",
        "colab": {
          "base_uri": "https://localhost:8080/",
          "height": 595
        },
        "outputId": "b0213e5c-2032-44b3-bda1-95353cbcab8d"
      },
      "source": [
        "!python train.py"
      ],
      "execution_count": 16,
      "outputs": [
        {
          "output_type": "stream",
          "text": [
            "Epoch 1\n",
            "Step 100 : Loss : 31.5716705\n",
            "Step 200 : Loss : inf\n",
            "Step 300 : Loss : inf\n",
            "Traceback (most recent call last):\n",
            "  File \"train.py\", line 38, in <module>\n",
            "    train(dataset)\n",
            "  File \"train.py\", line 30, in train\n",
            "    for images, labels in dataset:\n",
            "  File \"/usr/local/lib/python3.6/dist-packages/tensorflow_core/python/data/ops/iterator_ops.py\", line 622, in __next__\n",
            "    return self.next()\n",
            "  File \"/usr/local/lib/python3.6/dist-packages/tensorflow_core/python/data/ops/iterator_ops.py\", line 666, in next\n",
            "    return self._next_internal()\n",
            "  File \"/usr/local/lib/python3.6/dist-packages/tensorflow_core/python/data/ops/iterator_ops.py\", line 651, in _next_internal\n",
            "    output_shapes=self._flat_output_shapes)\n",
            "  File \"/usr/local/lib/python3.6/dist-packages/tensorflow_core/python/ops/gen_dataset_ops.py\", line 2673, in iterator_get_next_sync\n",
            "    _six.raise_from(_core._status_to_exception(e.code, message), None)\n",
            "  File \"<string>\", line 3, in raise_from\n",
            "tensorflow.python.framework.errors_impl.InvalidArgumentError: TypeError: 'float' object is not iterable\n",
            "Traceback (most recent call last):\n",
            "\n",
            "  File \"/usr/local/lib/python3.6/dist-packages/tensorflow_core/python/ops/script_ops.py\", line 221, in __call__\n",
            "    ret = func(*args)\n",
            "\n",
            "  File \"/usr/local/lib/python3.6/dist-packages/tensorflow_core/python/data/ops/dataset_ops.py\", line 585, in generator_py_func\n",
            "    values = next(generator_state.get_iterator(iterator_id))\n",
            "\n",
            "  File \"/content/iOS-note-v2/src/py/dataset.py\", line 24, in generator\n",
            "    text = [char_map.get(c, 0) for c in row.text]\n",
            "\n",
            "TypeError: 'float' object is not iterable\n",
            "\n",
            "\n",
            "\t [[{{node PyFunc}}]] [Op:IteratorGetNextSync]\n"
          ],
          "name": "stdout"
        }
      ]
    },
    {
      "cell_type": "code",
      "metadata": {
        "id": "c9Qw7A9qcVs7",
        "colab_type": "code",
        "colab": {
          "base_uri": "https://localhost:8080/",
          "height": 204
        },
        "outputId": "009a1970-a198-40f4-e8c3-f3e9f5d61c96"
      },
      "source": [
        "import pandas as pd\n",
        "\n",
        "\n",
        "labels = pd.read_csv(\"data/labels.csv\")\n",
        "labels.head()"
      ],
      "execution_count": 17,
      "outputs": [
        {
          "output_type": "execute_result",
          "data": {
            "text/html": [
              "<div>\n",
              "<style scoped>\n",
              "    .dataframe tbody tr th:only-of-type {\n",
              "        vertical-align: middle;\n",
              "    }\n",
              "\n",
              "    .dataframe tbody tr th {\n",
              "        vertical-align: top;\n",
              "    }\n",
              "\n",
              "    .dataframe thead th {\n",
              "        text-align: right;\n",
              "    }\n",
              "</style>\n",
              "<table border=\"1\" class=\"dataframe\">\n",
              "  <thead>\n",
              "    <tr style=\"text-align: right;\">\n",
              "      <th></th>\n",
              "      <th>image_id</th>\n",
              "      <th>text</th>\n",
              "      <th>width</th>\n",
              "      <th>height</th>\n",
              "    </tr>\n",
              "  </thead>\n",
              "  <tbody>\n",
              "    <tr>\n",
              "      <th>0</th>\n",
              "      <td>cfcd208495d565ef66e7dff9f98764da</td>\n",
              "      <td>catbird</td>\n",
              "      <td>95</td>\n",
              "      <td>32</td>\n",
              "    </tr>\n",
              "    <tr>\n",
              "      <th>1</th>\n",
              "      <td>c4ca4238a0b923820dcc509a6f75849b</td>\n",
              "      <td>Grünewald</td>\n",
              "      <td>106</td>\n",
              "      <td>32</td>\n",
              "    </tr>\n",
              "    <tr>\n",
              "      <th>2</th>\n",
              "      <td>c81e728d9d4c2f636f067f89cc14862c</td>\n",
              "      <td>birding</td>\n",
              "      <td>55</td>\n",
              "      <td>32</td>\n",
              "    </tr>\n",
              "    <tr>\n",
              "      <th>3</th>\n",
              "      <td>eccbc87e4b5ce2fe28308fd9f2a7baf3</td>\n",
              "      <td>metastasize</td>\n",
              "      <td>117</td>\n",
              "      <td>32</td>\n",
              "    </tr>\n",
              "    <tr>\n",
              "      <th>4</th>\n",
              "      <td>a87ff679a2f3e71d9181a67b7542122c</td>\n",
              "      <td>large</td>\n",
              "      <td>67</td>\n",
              "      <td>32</td>\n",
              "    </tr>\n",
              "  </tbody>\n",
              "</table>\n",
              "</div>"
            ],
            "text/plain": [
              "                           image_id         text  width  height\n",
              "0  cfcd208495d565ef66e7dff9f98764da      catbird     95      32\n",
              "1  c4ca4238a0b923820dcc509a6f75849b    Grünewald    106      32\n",
              "2  c81e728d9d4c2f636f067f89cc14862c      birding     55      32\n",
              "3  eccbc87e4b5ce2fe28308fd9f2a7baf3  metastasize    117      32\n",
              "4  a87ff679a2f3e71d9181a67b7542122c        large     67      32"
            ]
          },
          "metadata": {
            "tags": []
          },
          "execution_count": 17
        }
      ]
    },
    {
      "cell_type": "code",
      "metadata": {
        "id": "QYwrmJAri0Vu",
        "colab_type": "code",
        "colab": {
          "base_uri": "https://localhost:8080/",
          "height": 51
        },
        "outputId": "1d184514-e8a1-48c5-d01d-0aacdf0801f0"
      },
      "source": [
        "labels.text[labels.text.isnull()]"
      ],
      "execution_count": 20,
      "outputs": [
        {
          "output_type": "execute_result",
          "data": {
            "text/plain": [
              "23163    NaN\n",
              "Name: text, dtype: object"
            ]
          },
          "metadata": {
            "tags": []
          },
          "execution_count": 20
        }
      ]
    },
    {
      "cell_type": "code",
      "metadata": {
        "id": "hOHQsJkhi8Ka",
        "colab_type": "code",
        "colab": {}
      },
      "source": [
        ""
      ],
      "execution_count": 0,
      "outputs": []
    }
  ]
}